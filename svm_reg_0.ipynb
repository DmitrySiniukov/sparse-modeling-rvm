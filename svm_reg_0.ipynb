{
 "cells": [
  {
   "cell_type": "code",
   "execution_count": 41,
   "metadata": {},
   "outputs": [],
   "source": [
    "# Import of packages\n",
    "import numpy as np\n",
    "import scipy.optimize as optimize\n",
    "import matplotlib.pyplot as plt"
   ]
  },
  {
   "cell_type": "code",
   "execution_count": 16,
   "metadata": {
    "collapsed": true
   },
   "outputs": [],
   "source": [
    "def kernel(x, y, typeKer = \"linear\", p = 4, sigma = 0.5, kappa = 0.1, delta = 0.2):\n",
    "    if typeKer == \"linear\":\n",
    "        k = np.dot(x,y) + 1\n",
    "    elif typeKer == \"poly\":\n",
    "        k = (np.dot(x,y) + 1) ** p\n",
    "    elif typeKer == \"radial\":\n",
    "        k = math.exp(-(np.dot(x-y,x-y))/(2*sigma))\n",
    "    elif typeKer == \"sigmoid\":\n",
    "        k = math.atanh(kappa * np.dot(x,y) - delta)\n",
    "\n",
    "    return k"
   ]
  },
  {
   "cell_type": "code",
   "execution_count": 194,
   "metadata": {
    "collapsed": true
   },
   "outputs": [],
   "source": [
    "def lagrange(params, eps, X, t, kernel):\n",
    "    N2 = np.shape(params)[0]\n",
    "    N = int(N2/2)\n",
    "    a = params[0:N].reshape((N,1))\n",
    "    a_hat = params[N:N2].reshape((N,1))\n",
    "    t = t.reshape((N,1))\n",
    "    K = np.zeros((N,N))\n",
    "    for i in range(N):\n",
    "        for j in range(N):\n",
    "            K[i,j] = kernel(X[i],X[j])\n",
    "    L = -(1/2) * (a - a_hat).T.dot(K).dot(a - a_hat) - eps * np.trace(a + a_hat) + (a - a_hat).T.dot(t)\n",
    "    return L   "
   ]
  },
  {
   "cell_type": "code",
   "execution_count": 201,
   "metadata": {},
   "outputs": [],
   "source": [
    "N = 50\n",
    "tr = 0.6\n",
    "ts = 0.4\n",
    "N_tr = int(N*tr)\n",
    "N_ts = int(N*ts)\n",
    "x = np.linspace(0,5,num=N)\n",
    "y = 3 * x**2 + 2 + np.random.normal(loc=0, scale=1, size=N)\n",
    "x_tr = x[0:N_tr]\n",
    "y_tr = y[0:N_tr]\n",
    "x_ts = x[N_ts:N]\n",
    "y_ts = y[N_ts:N]"
   ]
  },
  {
   "cell_type": "code",
   "execution_count": 202,
   "metadata": {},
   "outputs": [
    {
     "data": {
      "image/png": "[encoded data removed]",
      "text/plain": [
       "<matplotlib.figure.Figure at 0x7fde0ef22cc0>"
      ]
     },
     "metadata": {},
     "output_type": "display_data"
    }
   ],
   "source": [
    "plt.plot(x,y, 'ro')\n",
    "plt.xlabel('X')\n",
    "plt.ylabel('Y')\n",
    "plt.show()"
   ]
  },
  {
   "cell_type": "code",
   "execution_count": 204,
   "metadata": {},
   "outputs": [
    {
     "name": "stdout",
     "output_type": "stream",
     "text": [
      "[ 0.  0.  0.  0.  0.  0.  0.  0.  0.  0.  0.  0.  0.  0.  0.  0.  0.  0.\n",
      "  0.  0.  0.  0.  0.  0.  0.  0.  0.  0.  0.  0.]\n",
      "[ 5.  5.  5.  5.  5.  5.  5.  5.  5.  5.  5.  5.  5.  5.  5.  5.  5.  5.\n",
      "  5.  5.  5.  5.  5.  5.  5.  5.  5.  5.  5.  5.]\n"
     ]
    }
   ],
   "source": [
    "eps = 0.5\n",
    "C = 5\n",
    "initial = np.zeros(2*N_tr)\n",
    "args = (eps, x_tr, y_tr, kernel)\n",
    "bounds = []\n",
    "for i in range(0,2*N_tr):\n",
    "    bounds.append((0,C))\n",
    "final = optimize.minimize(lagrange, initial, args, bounds=bounds, method='SLSQP')\n",
    "a = final.x[0:N_tr]\n",
    "a_hat = final.x[N_tr:2*N_tr]\n",
    "print(a)\n",
    "print(a_hat)"
   ]
  },
  {
   "cell_type": "code",
   "execution_count": null,
   "metadata": {
    "collapsed": true
   },
   "outputs": [],
   "source": [
    "def pred(a, a_hat)"
   ]
  },
  {
   "cell_type": "code",
   "execution_count": null,
   "metadata": {
    "collapsed": true
   },
   "outputs": [],
   "source": []
  }
 ],
 "metadata": {
  "kernelspec": {
   "display_name": "Python 3",
   "language": "python",
   "name": "python3"
  },
  "language_info": {
   "codemirror_mode": {
    "name": "ipython",
    "version": 3
   },
   "file_extension": ".py",
   "mimetype": "text/x-python",
   "name": "python",
   "nbconvert_exporter": "python",
   "pygments_lexer": "ipython3",
   "version": "3.5.2"
  }
 },
 "nbformat": 4,
 "nbformat_minor": 2
}
