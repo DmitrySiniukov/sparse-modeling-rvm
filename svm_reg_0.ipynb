{
 "cells": [
  {
   "cell_type": "code",
   "execution_count": 255,
   "metadata": {},
   "outputs": [],
   "source": [
    "# Import of packages\n",
    "import numpy as np\n",
    "import scipy.optimize as optimize\n",
    "import matplotlib.pyplot as plt"
   ]
  },
  {
   "cell_type": "code",
   "execution_count": 256,
   "metadata": {
    "collapsed": true
   },
   "outputs": [],
   "source": [
    "def kernel(x, y, typeKer = \"linear\", p = 4, sigma = 0.5, kappa = 0.1, delta = 0.2):\n",
    "    if typeKer == \"linear\":\n",
    "        k = np.dot(x,y) + 1\n",
    "    elif typeKer == \"poly\":\n",
    "        k = (np.dot(x,y) + 1) ** p\n",
    "    elif typeKer == \"radial\":\n",
    "        k = math.exp(-(np.dot(x-y,x-y))/(2*sigma))\n",
    "    elif typeKer == \"sigmoid\":\n",
    "        k = math.atanh(kappa * np.dot(x,y) - delta)\n",
    "\n",
    "    return k"
   ]
  },
  {
   "cell_type": "code",
   "execution_count": 257,
   "metadata": {
    "collapsed": true
   },
   "outputs": [],
   "source": [
    "def lagrange(params, eps, X, t, K):\n",
    "    N2 = np.shape(params)[0]\n",
    "    N = int(N2/2)\n",
    "    a = params[0:N].reshape((N,1))\n",
    "    a_hat = params[N:N2].reshape((N,1))\n",
    "    t = t.reshape((N,1))\n",
    "    L = (1/2) * (a - a_hat).T.dot(K).dot(a - a_hat) + eps * np.sum(a + a_hat) - (a - a_hat).T.dot(t)\n",
    "    return L   "
   ]
  },
  {
   "cell_type": "code",
   "execution_count": 258,
   "metadata": {},
   "outputs": [],
   "source": [
    "N = 50\n",
    "tr = 0.6\n",
    "ts = 0.4\n",
    "N_tr = int(N*tr)\n",
    "N_ts = int(N*ts)\n",
    "x = np.linspace(0,5,num=N)\n",
    "y = 3 * x + 2 + np.random.normal(loc=0, scale=1, size=N)\n",
    "x_tr = x[0:N_tr]\n",
    "y_tr = y[0:N_tr]\n",
    "x_ts = x[N_ts:N]\n",
    "y_ts = y[N_ts:N]"
   ]
  },
  {
   "cell_type": "code",
   "execution_count": 259,
   "metadata": {},
   "outputs": [
    {
     "data": {
      "image/png": "[encoded data removed]",
      "text/plain": [
       "<matplotlib.figure.Figure at 0x7fde0ef2b898>"
      ]
     },
     "metadata": {},
     "output_type": "display_data"
    }
   ],
   "source": [
    "plt.plot(x,y, 'ro')\n",
    "plt.xlabel('X')\n",
    "plt.ylabel('Y')\n",
    "plt.show()"
   ]
  },
  {
   "cell_type": "code",
   "execution_count": 260,
   "metadata": {},
   "outputs": [
    {
     "name": "stdout",
     "output_type": "stream",
     "text": [
      "[  5.00000000e+00   5.00000000e+00   5.00000000e+00   1.10603257e+00\n",
      "   1.12949870e-13   5.00000000e+00   5.00000000e+00   5.00000000e+00\n",
      "   5.00000000e+00   1.14646194e-13   5.00000000e+00   5.00000000e+00\n",
      "   1.13859726e-13   1.35570443e-13   8.77290494e-01   1.18514806e-13\n",
      "   5.00000000e+00]\n",
      "[  1.93725879e-13   1.74778759e-13   1.93901572e-13   1.14838012e-13\n",
      "   0.00000000e+00   1.78348828e-13   1.89782721e-13   1.92224232e-13\n",
      "   1.26631032e-13   6.33001150e-14   2.15519888e-13   2.06915730e-13\n",
      "   6.56769305e-14   3.42958381e-14   1.02393054e-13   6.41708908e-14\n",
      "   1.63424829e-13]\n"
     ]
    }
   ],
   "source": [
    "eps = 0.5\n",
    "C = 5\n",
    "initial = np.zeros(2*N_tr)\n",
    "K = np.zeros((N_tr,N_tr))\n",
    "for i in range(N_tr):\n",
    "    for j in range(N_tr):\n",
    "        K[i,j] = kernel(x_tr[i],x_tr[j])\n",
    "args = (eps, x_tr, y_tr, K)\n",
    "bounds = []\n",
    "for i in range(0,2*N_tr):\n",
    "    bounds.append((0,C))\n",
    "final = optimize.minimize(lagrange, initial, args, bounds=bounds, method='SLSQP')\n",
    "a = final.x[0:N_tr]\n",
    "a_hat = final.x[N_tr:2*N_tr]\n",
    "for i in range(0,N_tr):\n",
    "    if (a[i] < C and a[i] > 0):\n",
    "        tn = y_tr[i]\n",
    "        ind = i\n",
    "        break\n",
    "b = tn - eps - (a - a_hat).T.dot(K)[ind]\n",
    "cond_valuable = (a - a_hat) > 1e-15\n",
    "a = a[cond_valuable]\n",
    "a_hat = a_hat[cond_valuable]\n",
    "x_sv = x_tr[cond_valuable]\n",
    "print(a)\n",
    "print(a_hat)"
   ]
  },
  {
   "cell_type": "code",
   "execution_count": 261,
   "metadata": {},
   "outputs": [],
   "source": [
    "def pred(a, a_hat, b, x_sv, x_ts, kernel):\n",
    "    N_sv = np.shape(a)[0]\n",
    "    N_ts = np.shape(x_ts)[0]\n",
    "    a = a.reshape(N_sv,1)\n",
    "    a_hat = a_hat.reshape(N_sv,1)\n",
    "    print(N_sv)\n",
    "    print(N_ts)\n",
    "    print(np.shape((a-a_hat).T))\n",
    "    K = np.zeros((N_sv, N_ts))\n",
    "    print(np.shape(K))\n",
    "    for i in range(N_sv):\n",
    "        for j in range(N_ts):\n",
    "            K[i,j] = kernel(x_sv[i],x_ts[j])\n",
    "    y_ts = (a - a_hat).T.dot(K) + b\n",
    "    y_ts = y_ts.reshape(-1)\n",
    "    return y_ts\n",
    "    \n",
    "    "
   ]
  },
  {
   "cell_type": "code",
   "execution_count": 262,
   "metadata": {},
   "outputs": [
    {
     "name": "stdout",
     "output_type": "stream",
     "text": [
      "17\n",
      "30\n",
      "(1, 17)\n",
      "(17, 30)\n"
     ]
    }
   ],
   "source": [
    "y_pred = pred(a, a_hat, b, x_sv, x_ts, kernel)"
   ]
  },
  {
   "cell_type": "code",
   "execution_count": 264,
   "metadata": {},
   "outputs": [
    {
     "data": {
      "image/png": "[encoded data removed]",
      "text/plain": [
       "<matplotlib.figure.Figure at 0x7fde0ee7fc18>"
      ]
     },
     "metadata": {},
     "output_type": "display_data"
    },
    {
     "data": {
      "image/png": "[encoded data removed]",
      "text/plain": [
       "<matplotlib.figure.Figure at 0x7fde0f2b2438>"
      ]
     },
     "metadata": {},
     "output_type": "display_data"
    }
   ],
   "source": [
    "plt.plot(x_ts, y_ts,'ro')\n",
    "plt.show()\n",
    "plt.plot(x_ts, y_pred, 'bo')\n",
    "plt.show()"
   ]
  },
  {
   "cell_type": "code",
   "execution_count": 266,
   "metadata": {},
   "outputs": [
    {
     "data": {
      "text/plain": [
       "69.467400292385292"
      ]
     },
     "execution_count": 266,
     "metadata": {},
     "output_type": "execute_result"
    }
   ],
   "source": [
    "(y_pred[N_ts]-y_pred[0]) / (x_ts[N_ts] - x_ts[0])"
   ]
  },
  {
   "cell_type": "code",
   "execution_count": null,
   "metadata": {
    "collapsed": true
   },
   "outputs": [],
   "source": []
  }
 ],
 "metadata": {
  "kernelspec": {
   "display_name": "Python 3",
   "language": "python",
   "name": "python3"
  },
  "language_info": {
   "codemirror_mode": {
    "name": "ipython",
    "version": 3
   },
   "file_extension": ".py",
   "mimetype": "text/x-python",
   "name": "python",
   "nbconvert_exporter": "python",
   "pygments_lexer": "ipython3",
   "version": "3.5.2"
  }
 },
 "nbformat": 4,
 "nbformat_minor": 2
}
