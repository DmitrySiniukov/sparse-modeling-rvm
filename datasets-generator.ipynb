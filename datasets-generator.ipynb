{
 "cells": [
  {
   "cell_type": "code",
   "execution_count": 86,
   "metadata": {
    "collapsed": true
   },
   "outputs": [],
   "source": [
    "import numpy as np\n",
    "import matplotlib.pyplot as plt\n",
    "import random\n",
    "import sklearn.datasets as skdata\n",
    "import scipy.optimize as optimize\n",
    "import math\n",
    "import scipy.stats as sts\n",
    "from collections import deque\n",
    "from numpy import linalg\n",
    "dirData = 'Data/'"
   ]
  },
  {
   "cell_type": "markdown",
   "metadata": {},
   "source": [
    "# Regression Data"
   ]
  },
  {
   "cell_type": "markdown",
   "metadata": {},
   "source": [
    "## Sinc with uniform error [-0.1, 0.1]"
   ]
  },
  {
   "cell_type": "code",
   "execution_count": 87,
   "metadata": {
    "collapsed": true
   },
   "outputs": [],
   "source": [
    "def Sinc2(N, x0, xN, n0, nN, norm = True):\n",
    "    eps = 1e-30\n",
    "    x = np.linspace(x0, xN, num=N)\n",
    "    y = np.sin(x) / (x + eps) + np.random.uniform(low = n0, high = nN, size = N)\n",
    "    if norm == True:\n",
    "        y = y / np.abs(np.max(y) + eps)\n",
    "    return x, y    "
   ]
  },
  {
   "cell_type": "code",
   "execution_count": 88,
   "metadata": {},
   "outputs": [],
   "source": [
    "def genSinc2(norm = True):    \n",
    "    N_tr = 100\n",
    "    N_tst = 1000\n",
    "    X_tr, Y_tr = Sinc1(N_tr, -10, 10, -0.1, 0.1, norm )\n",
    "    X_ts, Y_ts = Sinc1(N_tst, -10, 10, -0.1, 0.1, norm)\n",
    "    return X_tr, Y_tr, X_ts, Y_ts"
   ]
  },
  {
   "cell_type": "markdown",
   "metadata": {},
   "source": [
    "## Sinc with Gaussian error (sigma = 0.1)"
   ]
  },
  {
   "cell_type": "code",
   "execution_count": 89,
   "metadata": {
    "collapsed": true
   },
   "outputs": [],
   "source": [
    "def Sinc1(N, x0, xN, sigma, norm = True):\n",
    "    eps = 1e-30\n",
    "    x = np.linspace(x0, xN, num=N)\n",
    "    y = np.sin(x) / (x + eps) + np.random.normal(loc = 0, scale = sigma, size = N)\n",
    "    if norm == True:\n",
    "        y = y / np.abs(np.max(y) + eps)\n",
    "    return x, y  "
   ]
  },
  {
   "cell_type": "code",
   "execution_count": 90,
   "metadata": {
    "collapsed": true
   },
   "outputs": [],
   "source": [
    "def genSinc1(norm = True):\n",
    "    N_tr = 100\n",
    "    N_tst = 1000\n",
    "    X_tr, Y_tr = Sinc2(N_tr, -10, 10, 0.1, norm)\n",
    "    X_ts, Y_ts = Sinc2(N_tst, -10, 10, 0.1, norm)\n",
    "    return X_tr, Y_tr, X_ts, Y_ts"
   ]
  },
  {
   "cell_type": "markdown",
   "metadata": {},
   "source": [
    "## Friedman function 1"
   ]
  },
  {
   "cell_type": "code",
   "execution_count": 91,
   "metadata": {
    "collapsed": true
   },
   "outputs": [],
   "source": [
    "def Friedman1(N, norm = True):\n",
    "    eps = 1e-30\n",
    "    x1 = x2 = x3 = x4 = x5 = np.linspace(0, 1, num = N)\n",
    "    y = 10*np.sin(np.pi*x1*x2) + 20*(x3 - 0.5)**2 \\\n",
    "        + 10*x4 + 5*x5\n",
    "    x[:,0] = x1\n",
    "    x[:,1] = x2\n",
    "    x[:,2] = x3\n",
    "    x[:,3] = x4\n",
    "    x[:,4] = x5\n",
    "    sigma = np.sqrt(np.var(y)) / 3\n",
    "    y = y + np.random.normal(loc = 0, scale = sigma, size = N)\n",
    "    if norm == True:\n",
    "        y = y / np.abs(np.max(y) + eps)\n",
    "    return x,y"
   ]
  },
  {
   "cell_type": "code",
   "execution_count": 92,
   "metadata": {},
   "outputs": [],
   "source": [
    "def genFriedman1(norm = True):\n",
    "    N_tr = 240\n",
    "    N_tst = 1000\n",
    "    X_tr, Y_tr = Friedman1(N_tr, norm)\n",
    "    X_ts, Y_ts = Friedman1(N_tst, norm)\n",
    "    return X_tr, Y_tr, X_ts, Y_ts"
   ]
  },
  {
   "cell_type": "markdown",
   "metadata": {},
   "source": [
    "## Friedman function 2"
   ]
  },
  {
   "cell_type": "code",
   "execution_count": 93,
   "metadata": {
    "collapsed": true
   },
   "outputs": [],
   "source": [
    "def Friedman2(N, norm = True):\n",
    "    eps = 1e-30\n",
    "    x1 = np.linspace(0, 100, num = N)\n",
    "    x2 = np.linspace(40*np.pi, 560*np.pi, num = N)\n",
    "    x3 = np.linspace(0, 1, num = N)\n",
    "    x4 = np.linspace(1, 11, num = N)\n",
    "    y_squared = x1**2 + (x2*x3 - 1/(x2*x4 + eps))**2 + eps\n",
    "    y = np.sqrt(y_squared)\n",
    "    x = np.zeros((N,4))\n",
    "    x[:,0] = x1\n",
    "    x[:,1] = x2\n",
    "    x[:,2] = x3\n",
    "    x[:,3] = x4\n",
    "    sigma = np.sqrt(np.var(y)) / 3\n",
    "    y = y + np.random.normal(loc = 0, scale = sigma, size = N)\n",
    "    if norm == True:\n",
    "        y = y / np.abs(np.max(y) + eps)\n",
    "    return x,y"
   ]
  },
  {
   "cell_type": "code",
   "execution_count": 94,
   "metadata": {
    "collapsed": true
   },
   "outputs": [],
   "source": [
    "def genFriedman2(norm = True):\n",
    "    N_tr = 240\n",
    "    N_tst = 1000\n",
    "    X_tr, Y_tr = Friedman2(N_tr, norm)\n",
    "    X_ts, Y_ts = Friedman2(N_tst, norm)\n",
    "    return X_tr, Y_tr, X_ts, Y_ts"
   ]
  },
  {
   "cell_type": "markdown",
   "metadata": {},
   "source": [
    "## Friedman function 3"
   ]
  },
  {
   "cell_type": "code",
   "execution_count": 95,
   "metadata": {
    "collapsed": true
   },
   "outputs": [],
   "source": [
    "def Friedman3(N):\n",
    "    eps = 1e-30\n",
    "    x1 = np.linspace(0, 100, num = N)\n",
    "    x2 = np.linspace(40*np.pi, 560*np.pi, num = N)\n",
    "    x3 = np.linspace(0, 1, num = N)\n",
    "    x4 = np.linspace(1, 11, num = N)\n",
    "    y_tan = (x2 * x3 - 1 / (x2 * x4 + eps)) / (x1 + eps)\n",
    "    y = np.tanh(y_tan)\n",
    "    x = np.zeros((N,4))\n",
    "    x[:,0] = x1\n",
    "    x[:,1] = x2\n",
    "    x[:,2] = x3\n",
    "    x[:,3] = x4\n",
    "    sigma = np.sqrt(np.var(y)) / 3\n",
    "    y = y + np.random.normal(loc = 0, scale = sigma, size = N)\n",
    "    if norm == True:\n",
    "        y = y / np.abs(np.max(y) + eps)\n",
    "    return x,y"
   ]
  },
  {
   "cell_type": "code",
   "execution_count": 96,
   "metadata": {
    "collapsed": true
   },
   "outputs": [],
   "source": [
    "def genFriedman3(norm = True):\n",
    "    N_tr = 240\n",
    "    N_tst = 1000\n",
    "    X_tr, Y_tr = Friedman3(N_tr, norm)\n",
    "    X_ts, Y_ts = Friedman3(N_tst, norm)\n",
    "    return X_tr, Y_tr, X_ts, Y_ts"
   ]
  },
  {
   "cell_type": "markdown",
   "metadata": {},
   "source": [
    "## Boston Dataset"
   ]
  },
  {
   "cell_type": "code",
   "execution_count": 97,
   "metadata": {
    "collapsed": true
   },
   "outputs": [],
   "source": [
    "def genBoston(norm = True):\n",
    "    eps = 1e-30\n",
    "    boston_housing = skdata.load_boston()\n",
    "    x = boston_housing.data\n",
    "    y = boston_housing.target\n",
    "    if norm == True:\n",
    "        y = y / np.abs(np.max(y) + eps)\n",
    "    N = np.shape(x)[0]\n",
    "    indices = np.arange(0,N)\n",
    "    random.shuffle(indices)\n",
    "    # Following the paper we get 481 values for training \n",
    "    # and the 25 othre for testing\n",
    "    X_tr = x[0:481]\n",
    "    Y_tr = y[0:481]\n",
    "    X_ts = x[481:N]\n",
    "    Y_tx = x[481:N]\n",
    "    return X_tr, Y_tr, X_ts, Y_ts"
   ]
  },
  {
   "cell_type": "markdown",
   "metadata": {},
   "source": [
    "# Classification Data"
   ]
  },
  {
   "cell_type": "markdown",
   "metadata": {},
   "source": [
    "## Ripley Data"
   ]
  },
  {
   "cell_type": "code",
   "execution_count": 98,
   "metadata": {
    "collapsed": true
   },
   "outputs": [],
   "source": [
    "def genRipley(norm = True): \n",
    "    eps = 1e-30\n",
    "    # We load the Ripley mixture model dataset\n",
    "    file = dirData + 'ripley.txt'\n",
    "    data = np.loadtxt(file, skiprows=1)\n",
    "    X = data[:,0:2]\n",
    "    Y = data[:,2]\n",
    "    # We put the 0-class to -1-class to adjust to our notation\n",
    "    Y[Y == 0] = -1\n",
    "    # We finally select only 100 points (to follow Tipping paper)\n",
    "    index1 = random.sample(range(0, 499), 50)\n",
    "    index2 = random.sample(range(500, 1000), 50)\n",
    "    index = np.hstack((index1, index2))\n",
    "    X = X[index]\n",
    "    Y = Y[index]\n",
    "    if norm == True:\n",
    "        Y = Y / np.abs(np.max(Y) + eps)\n",
    "    return X, Y"
   ]
  },
  {
   "cell_type": "code",
   "execution_count": 99,
   "metadata": {},
   "outputs": [
    {
     "data": {
      "image/png": "[encoded data removed]",
      "text/plain": [
       "<matplotlib.figure.Figure at 0x7f9aae7ea198>"
      ]
     },
     "metadata": {},
     "output_type": "display_data"
    }
   ],
   "source": [
    "X, Y = genRipley()\n",
    "classA = X[Y == 1]\n",
    "classB = X[Y == -1]\n",
    "\n",
    "plt.plot(classA[:,0], classA[:,1], 'bo')\n",
    "plt.plot(classB[:,0], classB[:,1], 'ro')\n",
    "\n",
    "plt.show()"
   ]
  },
  {
   "cell_type": "markdown",
   "metadata": {},
   "source": [
    "## U.S.P.S Dataset"
   ]
  },
  {
   "cell_type": "code",
   "execution_count": 100,
   "metadata": {},
   "outputs": [],
   "source": [
    "def genUSPS():\n",
    "    # Load file content\n",
    "    training_file = dirData + '/usps.train'\n",
    "    test_file = dirData + '/usps.test'\n",
    "    train_data = np.loadtxt(training_file)\n",
    "    test_data = np.loadtxt(test_file)\n",
    "    # Seperate to input and output\n",
    "    X_tr = train_data[:, 1:train_data.shape[1]]\n",
    "    Y_tr = train_data[:,0] \n",
    "    X_ts = test_data[:, 1:test_data.shape[1]]\n",
    "    Y_ts = test_data[:,0] \n",
    "    return X_tr, Y_tr, X_ts, Y_ts"
   ]
  },
  {
   "cell_type": "markdown",
   "metadata": {},
   "source": [
    "# Regression algorithms"
   ]
  },
  {
   "cell_type": "code",
   "execution_count": 103,
   "metadata": {
    "collapsed": true
   },
   "outputs": [],
   "source": [
    "class ParameterValueError(Exception):\n",
    "    \"\"\" Custom exception raised when a parameter has an invalid value.\"\"\"\n",
    "    pass\n",
    "\n",
    "class FailedOptimizationError(Exception):\n",
    "    \"\"\" Custom exception raised when a the optimization process fails.\"\"\"\n",
    "    pass\n",
    "\n",
    "class UntrainedModelError(Exception):\n",
    "    \"\"\" Custom exception raised when an untrained model is called to make predictions.\"\"\"\n",
    "    pass"
   ]
  },
  {
   "cell_type": "markdown",
   "metadata": {},
   "source": [
    "## RVM"
   ]
  },
  {
   "cell_type": "code",
   "execution_count": 118,
   "metadata": {
    "collapsed": true
   },
   "outputs": [],
   "source": [
    "# RVM class\n",
    "class RVM_reg:\n",
    "    \"\"\" Relevance Vector Machine (RVM)\n",
    "    \n",
    "    Implementation of RVM for both regression and classification.\n",
    "    \n",
    "    Attributes:\n",
    "        kerType: A string of the type of the desired kernel.\n",
    "        rvmType: A string denoting the RVM type to be used. The string \"EM\" denotes\n",
    "            an EM-like algorithm will be used to estimate the hyperparameters, the\n",
    "            string \"DD\" denotes the direct differentiation approach while \"SSBL\"\n",
    "            denotes sequential sparse bayesian learning.\n",
    "        p: Integer value denoting the degree of the polynomial kernel.\n",
    "        sigma: Float value denoting the smoothing factor of the Gaussian kernel.\n",
    "        kappa: Float value denoting the scaling parameter of the sigmoid kernel.\n",
    "        delta: Float value denoting the translation parameter of the sigmoid kernel.\n",
    "        bTrained: boolean value which becomes true once the RVM has been trained.\n",
    "    \"\"\"\n",
    "\n",
    "    EPSILON_CONV = 1e-6\n",
    "    EPSILON_UF = 1e-30\n",
    "    TH_RV = 1e5\n",
    "    INFINITY = 1e20\n",
    "    maxEpochs = 5000\n",
    "    \n",
    "    def __init__(self, kerType = 'poly', rvmType = \"EM\", p = 1, sigma = 1, \n",
    "                 kappa = 1, delta = 1):\n",
    "        \"\"\" Initializes the RVM class (constructor).\n",
    "        \n",
    "            Raises:\n",
    "                ParameterValueError: An error occured because a parameter had an\n",
    "                    invalid value.  \n",
    "        \"\"\"\n",
    "        # Check if the kernel type chosen is valid\n",
    "        kerTypes = ['linear', 'poly', 'radial', 'sigmoid']\n",
    "        if kerType not in kerTypes:\n",
    "            raise ParameterValueError(\"ParameterValueError: The string \" + kerType + \\\n",
    "                                       \" does not denote a valid kernel type\")\n",
    "        # Check if the string denoting the rvmType has a valid value\n",
    "        if rvmType != 'EM' and rvmType != 'DD' and rvmType != \"SSBL\":\n",
    "            raise ParameterValueError('ParameterValueError: ' + rvmType, \\\n",
    "                                       \" is not a valid RVM type value. Enter 'EM', 'DD' or 'SSBL' as a value. \")\n",
    "       \n",
    "        self.kerType = kerType\n",
    "        self.rvmType = rvmType\n",
    "        self.p = p\n",
    "        self.sigma = sigma\n",
    "        self.kappa = kappa\n",
    "        self.delta = delta\n",
    "        self.bTrained = False\n",
    "\n",
    "    def kernel(self, x, y):\n",
    "        \"\"\" Kernel computation.\n",
    "        \n",
    "        It computes the kernel value based on the dot product\n",
    "        between two vectors.\n",
    "        \n",
    "        Args:\n",
    "            x: Input vector.\n",
    "            y: Other input vector.\n",
    "            \n",
    "        Returns:\n",
    "            The computed kernel value.\n",
    "        \"\"\"  \n",
    "        if self.kerType == \"linear\":\n",
    "            k = np.dot(x,y) + 1\n",
    "        elif self.kerType == \"poly\":\n",
    "            k = (np.dot(x,y) + 1) ** self.p\n",
    "        elif self.kerType == \"radial\":\n",
    "            k = math.exp(-(np.dot(x-y,x-y))/(2*self.sigma))\n",
    "        elif self.kerType == \"sigmoid\":\n",
    "            k = math.atanh(self.kappa * np.dot(x,y) - self.delta)\n",
    "\n",
    "        return k\n",
    "    \n",
    "    def getKernelMatrix(self, X, training = True):\n",
    "        \"\"\" Evaluates the kernel matrix K given a set of input samples (training).\n",
    "\n",
    "        Args:\n",
    "            X_tr: A NxM matrix with a M dimensional training input sample\n",
    "                in each row.\n",
    "\n",
    "        Returns:\n",
    "            An NxN Kernel matrix where N is the number of input samples.\n",
    "        \"\"\"\n",
    "        N = X.shape[0]\n",
    "        if training == True:\n",
    "            K = np.zeros((N, N))\n",
    "            for i in range(N):\n",
    "                for j in range(N):\n",
    "                    K[i,j] = self.kernel(X[i], X[j])\n",
    "        else:\n",
    "            N_sv = self.X_sv.shape[0]\n",
    "            K = np.zeros((N,N_sv))\n",
    "            for i in range(N):\n",
    "                for j in range(N_sv):\n",
    "                    K[i,j] = self.kernel(X[i], self.X_sv[j])\n",
    "        return K\n",
    "\n",
    "    def getGammaValues(self, alpha_values, Sigma):\n",
    "        \"\"\"Evaluates the gamma values.\n",
    "        \n",
    "        Args:\n",
    "            alpha_values: N-dimensional vector with the hyperparameters of\n",
    "                the marginal likelihood.\n",
    "            Sigma: NxN covariance matrix of the posterior\n",
    "\n",
    "        Returns: A N-dimensional vector with the gamma values where \n",
    "            gamma_values[i] = 1 - alpha_values[i] * Sigma[i][i]\n",
    "        \"\"\"\n",
    "        N = alpha_values.shape[0]\n",
    "        gamma_values = 1 - np.multiply(alpha_values, np.diag(Sigma))\n",
    "        return gamma_values\n",
    "        \n",
    "    def getAlphaValues(self, Sigma, mu, gamma_values):\n",
    "        \"\"\"Evaluates the alpha values.\n",
    "\n",
    "        Args:\n",
    "            Sigma: NxN covariance matrix of the posterior\n",
    "            mu: mean of the posterior\n",
    "            gamma_values: N-dimensional vector with gamma_values\n",
    "\n",
    "        Returns: A N-dimensional vector with the alpha_values\n",
    "        \"\"\"        \n",
    "        N = Sigma.shape[0]\n",
    "        alpha_values = np.zeros(N)\n",
    "        if self.rvmType == \"EM\":\n",
    "            cond_low = (np.diag(Sigma) + mu**2) < self.EPSILON_UF\n",
    "            cond_high = (np.diag(Sigma) + mu**2) > self.INFINITY\n",
    "            ncond = np.logical_and(np.logical_not(cond_low), np.logical_not(cond_high))\n",
    "            alpha_values[cond_low] = self.INFINITY\n",
    "            alpha_values[cond_high] = 0\n",
    "            alpha_values[ncond] = 1 / (np.diag(Sigma)[ncond] + mu[ncond]**2)\n",
    "        elif self.rvmType == \"DD\":\n",
    "            cond_low = (mu**2) < self.EPSILON_UF\n",
    "            cond_high = (mu**2) > self.INFINITY\n",
    "            ncond = np.logical_and(np.logical_not(cond_low), np.logical_not(cond_high))\n",
    "            alpha_values[cond_low] = self.INFINITY\n",
    "            alpha_values[cond_high] = 0\n",
    "            alpha_values[ncond] = gamma_values[ncond] / (mu[ncond]**2)\n",
    "        return alpha_values\n",
    "\n",
    "    \n",
    "    def train(self, X_tr, Y_tr):\n",
    "        \"\"\" RVM training method\n",
    "        \n",
    "        Applies an EM-like algorithm or direct differentiation to estimate the\n",
    "        optimal hyperparameters (alpha and sigma) needed to make predictions\n",
    "        using the marginal likelihood.\n",
    "        Alternatively, applies the Sequential Sparse Bayesian Algorithm to estimate\n",
    "        the optimal hyperparemeters (alpha and sigma) more efficiently.\n",
    "        \n",
    "        \n",
    "        Args:\n",
    "            X_tr: A matrix with a training input sample in each row.\n",
    "            Y_tr: A vector with the output values of each input sample\n",
    "                in X_tr.\n",
    "        \n",
    "        Returns:\n",
    "            None\n",
    "        \"\"\"\n",
    "        # Get number of training data samples\n",
    "        N = X_tr.shape[0]\n",
    "        # Initialize the sigma squared value and the B matrix\n",
    "        sigma_squared = np.var(Y_tr) * 0.1\n",
    "        B = np.identity(N) / sigma_squared\n",
    "        # Calculate kernel matrix K and append a column with ones in the front \n",
    "        K = self.getKernelMatrix(X_tr)        \n",
    "        K = np.hstack((np.ones(N).reshape((N, 1)), K))\n",
    "        \n",
    "\n",
    "        if(self.rvmType == \"EM\" or self.rvmType ==\"DD\"):\n",
    "            ''' \n",
    "            Implementation based on the following paper Tipping, Michael. \n",
    "            \"Relevance vector machine.\" U.S. Patent No. 6,633,857. 14 Oct. 2003.\n",
    "            '''\n",
    "            # Initialize the alpha values (weight precision values) and the A matrix\n",
    "            alpha_values = np.ones(N + 1)\n",
    "            A = np.diag(alpha_values)\n",
    "            # Calculate Sigma and mu based on the initialized parameters\n",
    "            try:\n",
    "                Sigma = np.linalg.inv(K.T.dot(B).dot(K) + A)\n",
    "            except linalg.LinAlgError:\n",
    "                Sigma = np.linalg.pinv(K.T.dot(B).dot(K) + A)\n",
    "            mu = Sigma.dot(K.T).dot(B).dot(Y_tr)\n",
    "            # Calculate initial gamma values\n",
    "            gamma_values = self.getGammaValues(alpha_values, Sigma)\n",
    "\n",
    "            # Approximate optimal hyperparameter values iteratively\n",
    "            for epoch in range(self.maxEpochs):\n",
    "                # Evaluate alpha values\n",
    "                next_alpha_values = self.getAlphaValues(Sigma, mu, gamma_values)\n",
    "                # Evaluate sigma value\n",
    "                next_sigma_squared = (np.linalg.norm(Y_tr - K.dot(mu)) ** 2) / (N - np.sum(gamma_values))\n",
    "                # Check if algorithm has converged (variation of alpha and sigma)\n",
    "                if (np.sum(np.absolute(next_alpha_values - alpha_values)) < self.EPSILON_CONV and\n",
    "                    abs(next_sigma_squared - sigma_squared) < self.EPSILON_CONV):\n",
    "                        break\n",
    "                # If algorithm has not converged, update all the variables\n",
    "                alpha_values = next_alpha_values\n",
    "                sigma_squared = next_sigma_squared\n",
    "                A = np.diag(alpha_values)\n",
    "                B = np.identity(N) / sigma_squared\n",
    "                try:\n",
    "                    Sigma = np.linalg.inv(K.T.dot(B).dot(K) + A)\n",
    "                except linalg.LinAlgError:\n",
    "                    Sigma = np.linalg.pinv(K.T.dot(B).dot(K) + A) \n",
    "                mu = Sigma.dot(K.T).dot(B).dot(Y_tr)\n",
    "                gamma_values = self.getGammaValues(alpha_values, Sigma)\n",
    "                \n",
    "            # We store the support vectors and other important variables\n",
    "            cond_sv = alpha_values < self.TH_RV\n",
    "            self.X_sv = X_tr[cond_sv[1:N+1]]\n",
    "            self.Y_sv = Y_tr[cond_sv[1:N+1]]\n",
    "            self.mu = mu[cond_sv]\n",
    "            self.Sigma = Sigma[cond_sv][:,cond_sv]\n",
    "            self.sigma_squared = sigma_squared\n",
    "            \n",
    "        elif self.rvmType == \"SSBL\":     \n",
    "            \"\"\"\n",
    "            Implementation based on the following paper: Tipping, M.E. and Faul, A.C., 2003, January.\n",
    "            Fast marginal likelihood maximisation for sparse Bayesian models. In AISTATS.\n",
    "            \"\"\"\n",
    "            \n",
    "            # 2. Initialize one alpha value and set all the others to infinity.\n",
    "            alpha_values = np.zeros(N + 1) + self.INFINITY\n",
    "            basis_column = K[:,0]\n",
    "            phi_norm = np.linalg.norm(basis_column)\n",
    "            alpha_values[0] = phi_norm / ((np.linalg.norm(basis_column.dot(Y_tr)) ** 2) \\\n",
    "                                          / (phi_norm ** 2) - sigma_squared)\n",
    "            included_cond = np.zeros(N + 1, dtype=bool)\n",
    "            included_cond[0] = True\n",
    "            \n",
    "            # 3. Initialize Sigma and mu\n",
    "            A = np.zeros(1) + alpha_values[0]\n",
    "            basis_column = basis_column.reshape((N, 1)) # Reshape so that it can be transposed\n",
    "            Sigma = 1 / (basis_column.T.dot(B).dot(basis_column) + A)\n",
    "            mu = Sigma.dot(basis_column.T).dot(B).dot(Y_tr)\n",
    "\n",
    "            # 3. Initialize q and s for all bases\n",
    "            q = np.zeros(N + 1)\n",
    "            Q = np.zeros(N + 1)\n",
    "            s = np.zeros(N + 1)\n",
    "            S = np.zeros(N + 1)\n",
    "            Phi = basis_column\n",
    "            for i in range(N + 1):\n",
    "                basis = K[:, i]\n",
    "                tmp_1 = basis.T.dot(B)\n",
    "                tmp_2 = tmp_1.dot(Phi).dot(Sigma).dot(Phi.T).dot(B)\n",
    "                Q[i] = tmp_1.dot(Y_tr) - tmp_2.dot(Y_tr)\n",
    "                S[i] = tmp_1.dot(basis) - tmp_2.dot(basis)\n",
    "            denom = (alpha_values - S)\n",
    "            s = (alpha_values * S) / denom\n",
    "            q = (alpha_values * Q) / denom\n",
    "            \n",
    "            # Create queue with indices to select candidates for update\n",
    "            queue = deque([i for i in range(N + 1)])\n",
    "            # Start updating the model iteratively\n",
    "            for epoch in range(self.maxEpochs):\n",
    "                # 4. Pick a candidate basis vector from the start of the queue and put it at the end\n",
    "                basis_idx = queue.popleft()\n",
    "                queue.append(basis_idx)\n",
    "                \n",
    "                # 5. Compute theta\n",
    "                theta = q ** 2 - s\n",
    "                \n",
    "                next_alpha_values = np.copy(alpha_values)\n",
    "                next_included_cond = np.copy(included_cond)\n",
    "                if theta[basis_idx] > 0 and alpha_values[basis_idx] < self.INFINITY:\n",
    "                    # 6. Re-estimate alpha\n",
    "                    next_alpha_values[basis_idx] = s[basis_idx] ** 2 / (q[basis_idx] ** 2 - s[basis_idx])\n",
    "                    pass\n",
    "                elif theta[basis_idx] > 0 and alpha_values[basis_idx] >= self.INFINITY:\n",
    "                    # 7. Add basis function to the model with updated alpha\n",
    "                    next_alpha_values[basis_idx] = s[basis_idx] ** 2 / (q[basis_idx] ** 2 - s[basis_idx])\n",
    "                    next_included_cond[basis_idx] = True\n",
    "                elif theta[basis_idx] <= 0 and alpha_values[basis_idx] < self.INFINITY:\n",
    "                    # 8. Delete theta basis function from model and set alpha to infinity\n",
    "                    next_alpha_values[basis_idx] = self.INFINITY\n",
    "                    next_included_cond[basis_idx] = False\n",
    "                    \n",
    "                # 9. Estimate noise level\n",
    "                gamma_values = 1 - np.multiply(alpha_values[included_cond], np.diag(Sigma))\n",
    "                next_sigma_squared = (np.linalg.norm(Y_tr - Phi.dot(mu)) ** 2) / (N - np.sum(gamma_values))\n",
    "                \n",
    "                # 11. Check for convergence\n",
    "                # Check if algorithm has converged (variation of alpha and sigma)\n",
    "                not_included_cond = np.logical_not(included_cond)\n",
    "                if (np.sum(np.absolute(next_alpha_values[included_cond] - alpha_values[included_cond])) \\\n",
    "                            < self.EPSILON_CONV) and all(th <= 0 for th in theta[not_included_cond]):              \n",
    "                        break\n",
    "                \n",
    "                # 10. Recompute/update  Sigma and mu as well as s and q\n",
    "                alpha_values = next_alpha_values\n",
    "                sigma_squared = next_sigma_squared\n",
    "                included_cond = next_included_cond\n",
    "                A = np.diag(alpha_values[included_cond])\n",
    "                B = np.identity(N) / sigma_squared\n",
    "                Phi = K[:, included_cond]\n",
    "                # Compute Sigma\n",
    "                tmp = Phi.T.dot(B).dot(Phi) + A\n",
    "                if(tmp.shape[0] == 1):\n",
    "                    Sigma = 1 / tmp\n",
    "                else:\n",
    "                    try:\n",
    "                        Sigma = np.linalg.inv(tmp)\n",
    "                    except linalg.LinAlgError:\n",
    "                        Sigma = np.linalg.pinv(tmp)\n",
    "                    \n",
    "                # Compute mu\n",
    "                mu = Sigma.dot(Phi.T).dot(B).dot(Y_tr)\n",
    "                # Update s and q\n",
    "                for i in range(N + 1):\n",
    "                    basis = K[:, i]\n",
    "                    tmp_1 = basis.T.dot(B)\n",
    "                    tmp_2 = tmp_1.dot(Phi).dot(Sigma).dot(Phi.T).dot(B)\n",
    "                    Q[i] = tmp_1.dot(Y_tr) - tmp_2.dot(Y_tr)\n",
    "                    S[i] = tmp_1.dot(basis) - tmp_2.dot(basis)\n",
    "                denom = (alpha_values - S)\n",
    "                s = (alpha_values * S) / denom\n",
    "                q = (alpha_values * Q) / denom\n",
    "            ##print(epoch)\n",
    "            # We store the relevance vectors and other important variables\n",
    "            self.X_sv = X_tr[included_cond[1:N+1]]\n",
    "            self.Y_sv = Y_tr[included_cond[1:N+1]]\n",
    "            self.mu = mu\n",
    "            self.Sigma = Sigma\n",
    "            self.sigma_squared = sigma_squared\n",
    "            \n",
    "            \n",
    "        self.bTrained = True\n",
    "    \n",
    "    def pred(self, X):\n",
    "        \"\"\"Predicts the classes for a number of input data\n",
    "        \n",
    "        Args:\n",
    "            X: matrix with input data where each row represents a sample.\n",
    "            \n",
    "        Returns:\n",
    "            y: vector with the predicted class for each input sample.\n",
    "            \n",
    "        Raises:\n",
    "            UntrainedModelError: Error that occurs when this function is called\n",
    "                before calling the 'train' function.\n",
    "        \"\"\"\n",
    "        \n",
    "        if self.bTrained == False:\n",
    "            raise UntrainedModelError(\"UntrainedModelError: The SVM model has not been trained.\")\n",
    "        \n",
    "        N = X.shape[0]\n",
    "        K = self.getKernelMatrix(X, training = False)  \n",
    "        N_sv = np.shape(self.X_sv)[0]\n",
    "        if np.shape(self.mu)[0] != N_sv:\n",
    "            K = np.hstack((np.ones(N).reshape((N, 1)), K))\n",
    "        y = K.dot(self.mu)\n",
    "        err_var = self.sigma_squared + K.dot(self.Sigma).dot(K.T)\n",
    "        return y, np.sqrt(np.diag(err_var))\n",
    "\n",
    "    def getSV(self):\n",
    "        return self.X_sv, self.Y_sv\n",
    "               "
   ]
  },
  {
   "cell_type": "markdown",
   "metadata": {},
   "source": [
    "## SVM"
   ]
  },
  {
   "cell_type": "code",
   "execution_count": 119,
   "metadata": {
    "collapsed": true
   },
   "outputs": [],
   "source": [
    "# SVM class\n",
    "class SVM_reg:\n",
    "    \"\"\" Support Vector Machine (SVM) for regression.\n",
    "    \n",
    "    Implementation of SVM for regression with an option to use\n",
    "    both the original SVM formulation and the alternative v-SVM\n",
    "    formulation.\n",
    "    \n",
    "    Attributes:\n",
    "        kerType: A string of the type of the desired kernel.\n",
    "        svmType: A string denoting the SVM type to be used. The string \"C\" denotes\n",
    "            the original SVM formulation while the string \"V\" is used for the \n",
    "            alternative v-SVM formulation.\n",
    "        V: V-variable.\n",
    "        C: C-variable.\n",
    "        p: Integer value denoting the degree of the polynomial kernel.\n",
    "        sigma: Float value denoting the smoothing factor of the Gaussian kernel.\n",
    "        kappa: Float value denoting the scaling parameter of the sigmoid kernel.\n",
    "        delta: Float value denoting the translation parameter of the sigmoid kernel.\n",
    "        eps: Float value denoting the size of the insensitive tube.\n",
    "        bTrained: boolean value which becomes true once the SVM has been trained.\n",
    "        a: the 'a' lagrangian multipliers of the SVM.\n",
    "        a_hat: the 'a-hat' lagrangian multipliers of the SVM.\n",
    "        b: the bias term of the SVM\n",
    "        X_sv: the input values of the support vectors.\n",
    "        Y_sv: the output values of the support vectors.\n",
    "    \"\"\"\n",
    "\n",
    "    EPSILON = 1e-10\n",
    "   \n",
    "    def __init__(self, kerType = 'poly', svmType = 'C',\n",
    "                 V = 0.45, C = 1, p = 1, sigma = 1, \n",
    "                 kappa = 1, delta = 1, eps = 0.5):\n",
    "        \"\"\" Initializes the SVM class (constructor).\n",
    "        \n",
    "            Raises:\n",
    "                ParameterValueError: An error occured because a parameter had an\n",
    "                    invalid value.  \n",
    "        \"\"\"\n",
    "        # Check if the kernel type chosen is valid\n",
    "        kerTypes = ['linear', 'poly', 'radial', 'sigmoid']\n",
    "        if kerType not in kerTypes:\n",
    "            raise ParameterValueError(\"ParameterValueError: The string \" + kerType + \\\n",
    "                                       \" does not denote a valid kernel type\")\n",
    "        # Check if the string denoting the svmType has a valid value\n",
    "        if svmType != 'C' and svmType != 'V':\n",
    "            raise ParameterValueError('ParameterValueError: ' + svmType, \\\n",
    "                                       \" is not a valid SVM type value. Enter 'C' or 'V' as a value. \")\n",
    "        self.kerType = kerType\n",
    "        self.svmType = svmType\n",
    "        self.V = V\n",
    "        self.C = C\n",
    "        self.p = p\n",
    "        self.sigma = sigma\n",
    "        self.kappa = kappa\n",
    "        self.delta = delta\n",
    "        self.eps = eps\n",
    "        self.bTrained = False\n",
    "\n",
    "    def kernel(self, x, y):\n",
    "        \"\"\" Kernel computation.\n",
    "        \n",
    "        It computes the kernel value based on the dot product\n",
    "        between two vectors.\n",
    "        \n",
    "        Args:\n",
    "            x: Input vector.\n",
    "            y: Other input vector.\n",
    "            \n",
    "        Returns:\n",
    "            The computed kernel value.\n",
    "        \"\"\"  \n",
    "        if self.kerType == \"linear\":\n",
    "            k = np.dot(x,y) + 1\n",
    "        elif self.kerType == \"poly\":\n",
    "            k = (np.dot(x,y) + 1) ** self.p\n",
    "        elif self.kerType == \"radial\":\n",
    "            k = math.exp(-(np.dot(x-y,x-y))/(2*self.sigma))\n",
    "        elif self.kerType == \"sigmoid\":\n",
    "            k = math.atanh(self.kappa * np.dot(x,y) - self.delta)\n",
    "\n",
    "        return k\n",
    "    \n",
    "    def getKernelMatrix(self, X):\n",
    "        \"\"\" Evaluates the kernel matrix K given a set of input samples.\n",
    "\n",
    "            Args:\n",
    "                X_tr: A NxM matrix with a M dimensional training input sample\n",
    "                    in each row.\n",
    "                \n",
    "            Returns:\n",
    "                An NxN Kernel matrix where N is the number of input samples.\n",
    "        \"\"\"\n",
    "        N = X.shape[0]\n",
    "        K = np.zeros((N, N))\n",
    "        for i in range(N):\n",
    "            for j in range(N):\n",
    "                K[i,j] = self.kernel(X[i], X[j])\n",
    "        return K\n",
    "    \n",
    "    def lagrange(self, params, y, K):\n",
    "        \"\"\" The lagrangian objective function to be minimized.\n",
    "        \n",
    "        Args:\n",
    "            params: A vector with all the a and a-hat Lagrange multipliers.          \n",
    "            y: Vector with the true output values.\n",
    "            K: Matrix with the kernel values computed between each input.\n",
    "        \n",
    "        Returns:\n",
    "            The value of the lagrangian for the given parameters.\n",
    "        \"\"\"\n",
    "        N2 = np.shape(params)[0]\n",
    "        N = int(N2/2)\n",
    "        a = params[0:N].reshape((N,1))\n",
    "        a_hat = params[N:N2].reshape((N,1))\n",
    "        y = y.reshape((N,1))\n",
    "        if self.svmType == \"C\":\n",
    "            L = (1/2) * (a - a_hat).T.dot(K).dot(a - a_hat) \\\n",
    "                + self.eps * np.sum(a + a_hat) \\\n",
    "                - (a - a_hat).T.dot(y)\n",
    "        elif self.svmType == \"V\":\n",
    "            L = (1/2) * (a - a_hat).T.dot(K).dot(a - a_hat) \\\n",
    "                    - (a - a_hat).T.dot(y)\n",
    "        return L\n",
    "    \n",
    "    def train(self, X_tr, Y_tr):\n",
    "        \"\"\" SVM training method\n",
    "        \n",
    "        Trains the SVM by minimizing the lagrangian function given the\n",
    "        training input and output samples.\n",
    "        \n",
    "        Args:\n",
    "            X_tr: A matrix with a training input sample in each row.\n",
    "            Y_tr: A vector with the output values of each input sample\n",
    "                in X_tr.\n",
    "        \n",
    "        Returns:\n",
    "            None\n",
    "        \n",
    "        Raises:\n",
    "            FailedOptimizationError: An error occured because the optimization\n",
    "                of the lagrangian failed.\n",
    "        \"\"\"\n",
    "        N_tr = np.shape(X_tr)[0]\n",
    "        K = self.getKernelMatrix(X_tr)\n",
    "        args = (Y_tr, K)\n",
    "        \n",
    "        bounds = []\n",
    "        if self.svmType == \"C\":\n",
    "            for i in range(0, 2*N_tr):\n",
    "                bounds.append((0,self.C))\n",
    "        elif self.svmType == \"V\":\n",
    "            for i in range(0, 2*N_tr):\n",
    "                bounds.append((0,self.C / N_tr))\n",
    "        \n",
    "        def constraint_a(params):\n",
    "            N2 = np.shape(params)[0]\n",
    "            N = int(N2/2)\n",
    "            a = params[0:N]\n",
    "            a_hat = params[N:N2]\n",
    "            return np.sum(a - a_hat)\n",
    "        \n",
    "        def constraint_b(params):\n",
    "            N2 = np.shape(params)[0]\n",
    "            N = int(N2/2)\n",
    "            a = params[0:N]\n",
    "            a_hat = params[N:N2]\n",
    "            return self.V * self.C - np.sum(a + a_hat)\n",
    "\n",
    "        if self.svmType == \"C\":\n",
    "            cons = {'type':'eq', 'fun': constraint_a}\n",
    "        elif self.svmType == \"V\":\n",
    "            cons = [{'type':'eq', 'fun': constraint_a},\n",
    "                {'type':'ineq', 'fun' : constraint_b}]\n",
    "\n",
    "        \n",
    "        initial = np.zeros(2*N_tr)\n",
    "        final = optimize.minimize(self.lagrange, initial, args, \\\n",
    "            bounds=bounds, constraints=cons, method='SLSQP', tol = self.EPSILON)\n",
    "        \n",
    "        if final.success != True:\n",
    "            raise FailedOptimizationError(\"FailedOptimizationError: The optimization was not successful.\")\n",
    "        \n",
    "        a = final.x[0:N_tr]\n",
    "        a_hat = final.x[N_tr:2*N_tr]\n",
    "        \n",
    "        b_sum = 0\n",
    "        count = 0\n",
    "        # Average over all estimates of b for samples with a or a_hat between 0 and C\n",
    "        for i in range(N_tr):\n",
    "            if a[i] > 0 and a[i] < self.C:\n",
    "                count += 1\n",
    "                b_sum += Y_tr[i] - self.eps - (a - a_hat).T.dot(K)[i]\n",
    "            if a_hat[i] > 0 and a_hat[i] < self.C:\n",
    "                count += 1\n",
    "                b_sum += Y_tr[i] + self.eps - (a - a_hat).T.dot(K)[i]\n",
    "        b = b_sum / count\n",
    "  \n",
    "    \n",
    "        cond_valuable = np.logical_or(a > self.EPSILON, a_hat > self.EPSILON)\n",
    "        a = a[cond_valuable]\n",
    "        a_hat = a_hat[cond_valuable]\n",
    "        X_sv = X_tr[cond_valuable]\n",
    "        Y_sv = Y_tr[cond_valuable]\n",
    "        \n",
    "        self.a = a\n",
    "        self.a_hat = a_hat\n",
    "        self.b = b\n",
    "        self.X_sv = X_sv\n",
    "        self.Y_sv = Y_sv\n",
    "        self.bTrained = True\n",
    "        \n",
    "    def pred(self, X):\n",
    "        \"\"\"Predicts the outputs for a number of input data\n",
    "        \n",
    "        Args:\n",
    "            X: matrix with input data where each row represents a sample.\n",
    "            \n",
    "        Returns:\n",
    "            y: vector with the predicted output for each input sample.\n",
    "            \n",
    "        Raises:\n",
    "            UntrainedModelError: Error that occurs when this function is called\n",
    "                before calling the 'train' function.\n",
    "        \"\"\"\n",
    "        \n",
    "        if self.bTrained == False:\n",
    "            raise UntrainedModelError(\"UntrainedModelError: The SVM model has not been trained.\")\n",
    "        \n",
    "        N_sv = np.shape(self.X_sv)[0]\n",
    "        N = np.shape(X)[0]\n",
    "        a = self.a.reshape(N_sv,1)\n",
    "        a_hat = self.a_hat.reshape(N_sv,1)\n",
    "        K = np.zeros((N_sv, N))\n",
    "        for i in range(N_sv):\n",
    "            for j in range(N):\n",
    "                K[i,j] = self.kernel(self.X_sv[i],X[j])\n",
    "        y = (a - a_hat).T.dot(K) + self.b\n",
    "        y = y.reshape(-1)\n",
    "        return y\n",
    "    \n",
    "    def getSV(self):\n",
    "        return self.X_sv, self.Y_sv"
   ]
  },
  {
   "cell_type": "markdown",
   "metadata": {},
   "source": [
    "## Plot function for 1D datasets"
   ]
  },
  {
   "cell_type": "code",
   "execution_count": 120,
   "metadata": {},
   "outputs": [],
   "source": [
    "def printTest(X,Y,X_tst,Y_tst,X_sv,Y_sv,eps, typeR = 'RVM'):\n",
    "    plt.plot(X,Y,'go')\n",
    "    plt.plot(X_tst, Y_tst, 'b')\n",
    "    plt.fill_between(X_tst, Y_tst-eps, Y_tst+eps, \\\n",
    "        facecolor='lightblue', interpolate=True, alpha=0.5)\n",
    "    plt.plot(X_sv, Y_sv, 'ko', markersize = 15, mfc = \"None\")\n",
    "    if typeR == 'RVM':\n",
    "        plt.legend(['Training points', \\\n",
    "                    'Regression', \\\n",
    "                    'SV', \\\n",
    "                    'Prediction Standard Deviation'])\n",
    "    else:\n",
    "        plt.legend(['Training points', \\\n",
    "                    'Regression', \\\n",
    "                    'SV', \\\n",
    "                    'Insensitive tube'])\n",
    "    plt.show()"
   ]
  },
  {
   "cell_type": "markdown",
   "metadata": {},
   "source": [
    "# Regression Analysis"
   ]
  },
  {
   "cell_type": "code",
   "execution_count": 121,
   "metadata": {},
   "outputs": [],
   "source": [
    "X_tr, Y_tr, X_tst, Y_tst = genSinc1()\n",
    "rvmEM = RVM_reg(rvmType='EM', kerType='radial', sigma = 1)\n",
    "rvmDD = RVM_reg(rvmType='DD', kerType='radial', sigma = 1)\n",
    "rvmBL = RVM_reg(rvmType='SSBL', kerType='radial', sigma = 1)"
   ]
  },
  {
   "cell_type": "code",
   "execution_count": 122,
   "metadata": {
    "collapsed": true
   },
   "outputs": [],
   "source": [
    "rvmEM.train(X_tr, Y_tr)\n",
    "rvmDD.train(X_tr, Y_tr)\n",
    "rvmBL.train(X_tr, Y_tr)"
   ]
  },
  {
   "cell_type": "code",
   "execution_count": 129,
   "metadata": {
    "collapsed": true
   },
   "outputs": [],
   "source": [
    "pred_EM, ser_EM = rvmEM.pred(X_tst)\n",
    "pred_DD, ser_DD = rvmDD.pred(X_tst)\n",
    "pred_BL, ser_BL = rvmBL.pred(X_tst)"
   ]
  },
  {
   "cell_type": "code",
   "execution_count": 126,
   "metadata": {},
   "outputs": [
    {
     "name": "stdout",
     "output_type": "stream",
     "text": [
      "EM error: 1.0\n",
      "EM error: 0.999527670604\n",
      "EM error: 0.995551386399\n"
     ]
    }
   ],
   "source": [
    "e_EM = np.sum((pred_EM - Y_tst)**2)\n",
    "e_DD = np.sum((pred_DD - Y_tst)**2)\n",
    "e_BL = np.sum((pred_BL - Y_tst)**2)\n",
    "maxErr = np.max([e_EM, e_DD, e_BL])\n",
    "e_EM /= maxErr\n",
    "e_DD /= maxErr\n",
    "e_BL /= maxErr\n",
    "print(\"EM error: \" + str(e_EM))\n",
    "print(\"EM error: \" + str(e_DD))\n",
    "print(\"EM error: \" + str(e_BL))"
   ]
  },
  {
   "cell_type": "code",
   "execution_count": 128,
   "metadata": {},
   "outputs": [
    {
     "name": "stdout",
     "output_type": "stream",
     "text": [
      "EM Relevant vectors: 22\n",
      "DD Relevant vectors: 6\n",
      "BL Relevant vectors: 22\n"
     ]
    }
   ],
   "source": [
    "X_rv_EM, Y_rv_EM = rvmEM.getSV()\n",
    "X_rv_DD, Y_rv_DD = rvmDD.getSV()\n",
    "X_rv_BL, Y_rv_BL = rvmBL.getSV()\n",
    "N_rv_EM = np.shape(X_rv_EM)[0]\n",
    "N_rv_DD = np.shape(X_rv_DD)[0]\n",
    "N_rv_BL = np.shape(X_rv_BL)[0]\n",
    "print(\"EM Relevant vectors: \" + str(N_rv_EM))\n",
    "print(\"DD Relevant vectors: \" + str(N_rv_DD))\n",
    "print(\"BL Relevant vectors: \" + str(N_rv_BL))"
   ]
  },
  {
   "cell_type": "code",
   "execution_count": 134,
   "metadata": {},
   "outputs": [
    {
     "data": {
      "image/png": "[encoded data removed]",
      "text/plain": [
       "<matplotlib.figure.Figure at 0x7f9ab2cfcb70>"
      ]
     },
     "metadata": {},
     "output_type": "display_data"
    }
   ],
   "source": [
    "printTest(X_tr, Y_tr, X_tst, pred_EM, X_rv_EM, \\\n",
    "          Y_rv_EM, ser_EM, typeR='RVM')"
   ]
  },
  {
   "cell_type": "code",
   "execution_count": 135,
   "metadata": {},
   "outputs": [
    {
     "data": {
      "image/png": "[encoded data removed]",
      "text/plain": [
       "<matplotlib.figure.Figure at 0x7f9ab2dbc6d8>"
      ]
     },
     "metadata": {},
     "output_type": "display_data"
    }
   ],
   "source": [
    "printTest(X_tr, Y_tr, X_tst, pred_DD, X_rv_DD, \\\n",
    "          Y_rv_DD, ser_DD, typeR='RVM')"
   ]
  },
  {
   "cell_type": "code",
   "execution_count": 136,
   "metadata": {},
   "outputs": [
    {
     "data": {
      "image/png": "[encoded data removed]",
      "text/plain": [
       "<matplotlib.figure.Figure at 0x7f9ab321b828>"
      ]
     },
     "metadata": {},
     "output_type": "display_data"
    }
   ],
   "source": [
    "printTest(X_tr, Y_tr, X_tst, pred_BL, X_rv_BL, \\\n",
    "          Y_rv_BL, ser_BL, typeR='RVM')"
   ]
  },
  {
   "cell_type": "code",
   "execution_count": null,
   "metadata": {
    "collapsed": true
   },
   "outputs": [],
   "source": []
  }
 ],
 "metadata": {
  "kernelspec": {
   "display_name": "Python 3",
   "language": "python",
   "name": "python3"
  },
  "language_info": {
   "codemirror_mode": {
    "name": "ipython",
    "version": 3
   },
   "file_extension": ".py",
   "mimetype": "text/x-python",
   "name": "python",
   "nbconvert_exporter": "python",
   "pygments_lexer": "ipython3",
   "version": "3.5.2"
  }
 },
 "nbformat": 4,
 "nbformat_minor": 2
}
