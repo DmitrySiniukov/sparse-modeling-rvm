{
 "cells": [
  {
   "cell_type": "code",
   "execution_count": 3,
   "metadata": {},
   "outputs": [],
   "source": [
    "import numpy as np\n",
    "import matplotlib.pyplot as pltm\n",
    "import random\n",
    "import sklearn.datasets as skdata\n",
    "dirData = 'Data/'"
   ]
  },
  {
   "cell_type": "markdown",
   "metadata": {},
   "source": [
    "# Regression Data"
   ]
  },
  {
   "cell_type": "markdown",
   "metadata": {},
   "source": [
    "## Sinc with uniform error [-0.1, 0.1]"
   ]
  },
  {
   "cell_type": "code",
   "execution_count": 4,
   "metadata": {},
   "outputs": [],
   "source": [
    "def genSinc1(N, x0, xN, n0, nN):\n",
    "    eps = 1e-30\n",
    "    x = np.linspace(x0, xN, num=N)\n",
    "    y = np.sin(x) / (x + eps) + np.random.uniform(low = n0, high = nN, size = N)\n",
    "    return x, y    "
   ]
  },
  {
   "cell_type": "code",
   "execution_count": 5,
   "metadata": {},
   "outputs": [],
   "source": [
    "N_tr = 100\n",
    "N_tst = 1000\n",
    "X_tr, Y_tr = genSinc1(N_tr, -10, 10, -0.1, 0.1)\n",
    "X_ts, Y_ts = genSinc1(N_tst, -10, 10, -0.1, 0.1)"
   ]
  },
  {
   "cell_type": "markdown",
   "metadata": {},
   "source": [
    "## Sinc with Gaussian error (sigma = 0.1)"
   ]
  },
  {
   "cell_type": "code",
   "execution_count": 6,
   "metadata": {},
   "outputs": [],
   "source": [
    "def genSinc2(N, x0, xN, sigma):\n",
    "    eps = 1e-30\n",
    "    x = np.linspace(x0, xN, num=N)\n",
    "    y = np.sin(x) / (x + eps) + np.random.normal(loc = 0, scale = sigma, size = N)\n",
    "    return x, y  "
   ]
  },
  {
   "cell_type": "code",
   "execution_count": 7,
   "metadata": {},
   "outputs": [],
   "source": [
    "N_tr = 100\n",
    "N_tst = 1000\n",
    "X_tr, Y_tr = genSinc2(N_tr, -10, 10, 0.1)\n",
    "X_ts, Y_ts = genSinc2(N_tst, -10, 10, 0.1)"
   ]
  },
  {
   "cell_type": "markdown",
   "metadata": {},
   "source": [
    "## Friedman function 1"
   ]
  },
  {
   "cell_type": "code",
   "execution_count": 8,
   "metadata": {},
   "outputs": [],
   "source": [
    "def Friedman1(N):\n",
    "    eps = 1e-30\n",
    "    x1 = np.linspace(0, 100, num = N)\n",
    "    x2 = np.linspace(40*np.pi, 560*np.pi, num = N)\n",
    "    x3 = np.linspace(0, 1, num = N)\n",
    "    x4 = np.linspace(1, 11, num = N)\n",
    "    y_squared = x1**2 + (x2*x3 - 1/(x2*x4 + eps))**2 + eps\n",
    "    y = np.sqrt(y_squared)\n",
    "    x = np.zeros((N,4))\n",
    "    x[:,0] = x1\n",
    "    x[:,1] = x2\n",
    "    x[:,2] = x3\n",
    "    x[:,3] = x4\n",
    "    sigma = np.sqrt(np.var(y)) / 3\n",
    "    y = y + np.random.normal(loc = 0, scale = sigma, size = N)\n",
    "    return x,y"
   ]
  },
  {
   "cell_type": "markdown",
   "metadata": {},
   "source": [
    "## Boston Dataset"
   ]
  },
  {
   "cell_type": "code",
   "execution_count": 9,
   "metadata": {},
   "outputs": [],
   "source": [
    "boston_housing = skdata.load_boston()\n",
    "X = boston_housing.data\n",
    "Y = boston_housing.target"
   ]
  },
  {
   "cell_type": "markdown",
   "metadata": {},
   "source": [
    "# First data for classification: Ripley mixture model"
   ]
  },
  {
   "cell_type": "code",
   "execution_count": 10,
   "metadata": {},
   "outputs": [],
   "source": [
    "# We load the Ripley mixture model dataset\n",
    "file = dirData + 'ripley.txt'\n",
    "data = np.loadtxt(file, skiprows=1)\n",
    "X = data[:,0:2]\n",
    "Y = data[:,2]\n",
    "# We put the 0-class to -1-class to adjust to our notation\n",
    "Y[Y == 0] = -1\n",
    "# We finally select only 100 points (to follow Tipping paper)\n",
    "index1 = random.sample(range(0, 499), 50)\n",
    "index2 = random.sample(range(500, 1000), 50)\n",
    "index = np.hstack((index1, index2))\n",
    "X = X[index]\n",
    "Y = Y[index]"
   ]
  },
  {
   "cell_type": "code",
   "execution_count": 44,
   "metadata": {},
   "outputs": [
    {
     "data": {
      "image/png": "[encoded data removed]",
      "text/plain": [
       "<matplotlib.figure.Figure at 0x7f0275a34208>"
      ]
     },
     "metadata": {},
     "output_type": "display_data"
    }
   ],
   "source": [
    "classA = X[Y == 1]\n",
    "classB = X[Y == -1]\n",
    "\n",
    "plt.plot(classA[:,0], classA[:,1], 'bo')\n",
    "plt.plot(classB[:,0], classB[:,1], 'ro')\n",
    "\n",
    "plt.show()"
   ]
  },
  {
   "cell_type": "markdown",
   "metadata": {},
   "source": [
    "## U.S.P.S Dataset"
   ]
  },
  {
   "cell_type": "code",
   "execution_count": 23,
   "metadata": {},
   "outputs": [
    {
     "name": "stdout",
     "output_type": "stream",
     "text": [
      "[[-1.    -1.    -1.    ..., -1.    -1.    -1.   ]\n",
      " [-1.    -1.    -1.    ..., -0.671 -0.828 -1.   ]\n",
      " [-1.    -1.    -1.    ..., -1.    -1.    -1.   ]\n",
      " ..., \n",
      " [-1.    -1.    -1.    ..., -1.    -1.    -1.   ]\n",
      " [-1.    -1.    -1.    ..., -1.    -1.    -1.   ]\n",
      " [-1.    -1.    -1.    ..., -1.    -1.    -1.   ]]\n",
      "[ 6.  5.  4. ...,  3.  0.  1.]\n",
      "[[-1. -1. -1. ..., -1. -1. -1.]\n",
      " [-1. -1. -1. ..., -1. -1. -1.]\n",
      " [-1. -1. -1. ..., -1. -1. -1.]\n",
      " ..., \n",
      " [-1. -1. -1. ..., -1. -1. -1.]\n",
      " [-1. -1. -1. ..., -1. -1. -1.]\n",
      " [-1. -1. -1. ..., -1. -1. -1.]]\n",
      "[ 9.  6.  3. ...,  4.  0.  1.]\n"
     ]
    }
   ],
   "source": [
    "# Load file content\n",
    "training_file = dirData + '/zip.train'\n",
    "test_file = dirData + '/zip.test'\n",
    "train_data = np.loadtxt(training_file)\n",
    "test_data = np.loadtxt(test_file)\n",
    "# Seperate to input and output\n",
    "X_tr = train_data[:, 1:train_data.shape[1]]\n",
    "Y_tr = train_data[:,0] \n",
    "X_ts = test_data[:, 1:test_data.shape[1]]\n",
    "Y_ts = test_data[:,0] \n",
    "\n",
    "print(X_tr)\n",
    "print(Y_tr)\n",
    "print(X_ts)\n",
    "print(Y_ts)\n"
   ]
  },
  {
   "cell_type": "markdown",
   "metadata": {},
   "source": [
    "# Set of datasets for regression"
   ]
  },
  {
   "cell_type": "code",
   "execution_count": 66,
   "metadata": {},
   "outputs": [],
   "source": []
  },
  {
   "cell_type": "markdown",
   "metadata": {},
   "source": [
    "# Set of datasets for classification"
   ]
  },
  {
   "cell_type": "code",
   "execution_count": null,
   "metadata": {
    "collapsed": true
   },
   "outputs": [],
   "source": []
  }
 ],
 "metadata": {
  "kernelspec": {
   "display_name": "Python 3",
   "language": "python",
   "name": "python3"
  },
  "language_info": {
   "codemirror_mode": {
    "name": "ipython",
    "version": 3
   },
   "file_extension": ".py",
   "mimetype": "text/x-python",
   "name": "python",
   "nbconvert_exporter": "python",
   "pygments_lexer": "ipython3",
   "version": "3.5.2"
  }
 },
 "nbformat": 4,
 "nbformat_minor": 2
}
