{
 "cells": [
  {
   "cell_type": "code",
   "execution_count": 1,
   "metadata": {
    "collapsed": true
   },
   "outputs": [],
   "source": [
    "# Import of the packages\n",
    "import numpy as np\n",
    "import scipy.optimize as optimize\n",
    "import matplotlib.pyplot as plt\n",
    "import math\n",
    "import scipy.stats as sts"
   ]
  },
  {
   "cell_type": "code",
   "execution_count": 2,
   "metadata": {
    "collapsed": true
   },
   "outputs": [],
   "source": [
    "class ParameterValueError(Exception):\n",
    "    \"\"\" Custom exception raised when a parameter has an invalid value.\"\"\"\n",
    "    pass"
   ]
  },
  {
   "cell_type": "code",
   "execution_count": 129,
   "metadata": {},
   "outputs": [],
   "source": [
    "# RVM class\n",
    "class RVM:\n",
    "    \"\"\" Relevance Vector Machine (RVM)\n",
    "    \n",
    "    Implementation of RVM for both regression and classification.\n",
    "    \n",
    "    Attributes:\n",
    "        kerType: A string of the type of the desired kernel.\n",
    "        rvmType: A string denoting the RVM type to be used. The string \"EM\" denotes\n",
    "            an EM-like algorithm will be used to estimate the hyperparameters while\n",
    "            the string \"DD\" denotes the direct differentiation approach.\n",
    "        p: Integer value denoting the degree of the polynomial kernel.\n",
    "        sigma: Float value denoting the smoothing factor of the Gaussian kernel.\n",
    "        kappa: Float value denoting the scaling parameter of the sigmoid kernel.\n",
    "        delta: Float value denoting the translation parameter of the sigmoid kernel.\n",
    "        bTrained: boolean value which becomes true once the RVM has been trained.\n",
    "    \"\"\"\n",
    "\n",
    "    EPSILON_CONV = 1e-10\n",
    "    EPSILON_UF = 1e-40\n",
    "    TH_RV = 1e7\n",
    "    INFINITY = 1e20\n",
    "    maxEpochs = 100000\n",
    "    \n",
    "    def __init__(self, kerType = 'poly', rvmType = \"EM\", p = 1, sigma = 1, \n",
    "                 kappa = 1, delta = 1):\n",
    "        \"\"\" Initializes the RVM class (constructor).\n",
    "        \n",
    "            Raises:\n",
    "                ParameterValueError: An error occured because a parameter had an\n",
    "                    invalid value.  \n",
    "        \"\"\"\n",
    "        # Check if the kernel type chosen is valid\n",
    "        kerTypes = ['linear', 'poly', 'radial', 'sigmoid']\n",
    "        if kerType not in kerTypes:\n",
    "            raise ParameterValueError(\"ParameterValueError: The string \" + kerType + \\\n",
    "                                       \" does not denote a valid kernel type\")\n",
    "        # Check if the string denoting the rvmType has a valid value\n",
    "        if rvmType != 'EM' and rvmType != 'DD':\n",
    "            raise ParameterValueError('ParameterValueError: ' + rvmType, \\\n",
    "                                       \" is not a valid RVM type value. Enter 'EM' or 'DD' as a value. \")\n",
    "       \n",
    "        self.kerType = kerType\n",
    "        self.rvmType = rvmType\n",
    "        self.p = p\n",
    "        self.sigma = sigma\n",
    "        self.kappa = kappa\n",
    "        self.delta = delta\n",
    "        self.bTrained = False\n",
    "\n",
    "    def kernel(self, x, y):\n",
    "        \"\"\" Kernel computation.\n",
    "        \n",
    "        It computes the kernel value based on the dot product\n",
    "        between two vectors.\n",
    "        \n",
    "        Args:\n",
    "            x: Input vector.\n",
    "            y: Other input vector.\n",
    "            \n",
    "        Returns:\n",
    "            The computed kernel value.\n",
    "        \"\"\"  \n",
    "        if self.kerType == \"linear\":\n",
    "            k = np.dot(x,y) + 1\n",
    "        elif self.kerType == \"poly\":\n",
    "            k = (np.dot(x,y) + 1) ** self.p\n",
    "        elif self.kerType == \"radial\":\n",
    "            k = math.exp(-(np.dot(x-y,x-y))/(2*self.sigma))\n",
    "        elif self.kerType == \"sigmoid\":\n",
    "            k = math.atanh(self.kappa * np.dot(x,y) - self.delta)\n",
    "\n",
    "        return k\n",
    "    \n",
    "    def getKernelMatrix(self, X, training = True):\n",
    "        \"\"\" Evaluates the kernel matrix K given a set of input samples (training).\n",
    "\n",
    "            Args:\n",
    "                X_tr: A NxM matrix with a M dimensional training input sample\n",
    "                    in each row.\n",
    "                \n",
    "            Returns:\n",
    "                An NxN Kernel matrix where N is the number of input samples.\n",
    "        \"\"\"\n",
    "        N = X.shape[0]\n",
    "        if training == True:\n",
    "            K = np.zeros((N, N))\n",
    "            for i in range(N):\n",
    "                for j in range(N):\n",
    "                    K[i,j] = self.kernel(X[i], X[j])\n",
    "        else:\n",
    "            N_sv = self.X_sv.shape[0]\n",
    "            K = np.zeros((N,N_sv))\n",
    "            for i in range(N):\n",
    "                for j in range(N_sv):\n",
    "                    K[i,j] = self.kernel(X[i], self.X_sv[j])\n",
    "        return K\n",
    "\n",
    "    def getGammaValues(self, alpha_values, Sigma):\n",
    "        \"\"\"Evaluates the gamma values.\n",
    "        \n",
    "            Args:\n",
    "                alpha_values: N-dimensional vector with the hyperparameters of\n",
    "                    the marginal likelihood.\n",
    "                Sigma: NxN covariance matrix of the posterior\n",
    "                \n",
    "            Returns: A N-dimensional vector with the gamma values where \n",
    "                gamma_values[i] = 1 - alpha_values[i] * Sigma[i][i]\n",
    "        \"\"\"\n",
    "        N = alpha_values.shape[0]\n",
    "        gamma_values = 1 - np.multiply(alpha_values, np.diag(Sigma))\n",
    "        return gamma_values\n",
    "        \n",
    "    def train(self, X_tr, Y_tr):\n",
    "        \"\"\" RVM training method\n",
    "        \n",
    "        Applies an EM-like algorithm or direct differentiation to estimate the\n",
    "        optimal hyperparameters (alpha and sigma) needed to make predictions\n",
    "        using the marginal likelihood.\n",
    "        \n",
    "        \n",
    "        Args:\n",
    "            X_tr: A matrix with a training input sample in each row.\n",
    "            Y_tr: A vector with the output values of each input sample\n",
    "                in X_tr.\n",
    "        \n",
    "        Returns:\n",
    "            None\n",
    "        \"\"\"\n",
    "        # Get number of training data samples\n",
    "        N = X_tr.shape[0]\n",
    "        # Initialize the alpha values (weight precision values) and the A matrix\n",
    "        alpha_values = np.ones(N + 1)\n",
    "        A = np.diag(alpha_values)\n",
    "        # Initialize the sigma squared value and the B matrix\n",
    "        sigma_squared = 1\n",
    "        B = np.identity(N) / sigma_squared\n",
    "        # Calculate kernel matrix K and append a column with ones in the front (for the bias term??)\n",
    "        K = self.getKernelMatrix(X_tr)        \n",
    "        K = np.hstack((np.ones(N).reshape((N, 1)), K))\n",
    "        # Calculate Sigma and mu based on the initialized parameters\n",
    "        Sigma = np.linalg.inv(K.T.dot(B).dot(K) + A)\n",
    "        mu = Sigma.dot(K.T).dot(B).dot(Y_tr)\n",
    "        # Calculate initial gamma values\n",
    "        gamma_values = self.getGammaValues(alpha_values, Sigma)\n",
    "    \n",
    "\n",
    "        # Approximate optimal hyperparameter values iteratively\n",
    "        next_alpha_values = np.zeros(N + 1)\n",
    "        for epoch in range(self.maxEpochs):\n",
    "            # Evaluate alpha values\n",
    "            if self.rvmType == \"EM\":\n",
    "                cond = (np.diag(Sigma) + mu**2) < self.EPSILON_UF\n",
    "                ncond = np.logical_not(cond)\n",
    "                next_alpha_values[cond] = self.INFINITY\n",
    "                next_alpha_values[ncond] = 1 / (np.diag(Sigma)[ncond] + mu[ncond]**2)\n",
    "            elif self.rvmType == \"DD\":\n",
    "                cond = mu**2 < self.EPSILON_UF\n",
    "                ncond = np.logical_not(cond)\n",
    "                next_alpha_values[cond] = self.INFINITY\n",
    "                next_alpha_values[ncond] = gamma_values[ncond] / (mu[ncond]**2)\n",
    "            # Evaluate sigma value\n",
    "            next_sigma_squared = (np.linalg.norm(Y_tr - K.dot(mu)) ** 2) / (N - np.sum(gamma_values))\n",
    "            # Check if algorithm has converged (variation of alpha and sigma)\n",
    "            if (np.sum(np.absolute(next_alpha_values - alpha_values)) < self.EPSILON_CONV and\n",
    "                abs(next_sigma_squared - sigma_squared) < self.EPSILON_CONV):\n",
    "                    break\n",
    "            # If algorithm has not converged, update all the variables\n",
    "            alpha_values = next_alpha_values\n",
    "            sigma_squared = next_sigma_squared\n",
    "            A = np.diag(alpha_values)\n",
    "            B = np.identity(N) / sigma_squared\n",
    "            Sigma = np.linalg.inv(K.T.dot(B).dot(K) + A)\n",
    "            mu = Sigma.dot(K.T).dot(B).dot(Y_tr)\n",
    "            gamma_values = self.getGammaValues(alpha_values, Sigma)\n",
    "            #print(\"EPOCH: \" + str(epoch))\n",
    "        print(epoch)\n",
    "            \n",
    "        # We store the support vectors and other important variables\n",
    "        cond_sv = alpha_values < self.TH_RV\n",
    "        self.X_sv = X_tr[cond_sv[1:N+1]]\n",
    "        self.Y_sv = y_tr[cond_sv[1:N+1]]\n",
    "        self.mu = mu[cond_sv]\n",
    "        self.bTrained = True\n",
    "    \n",
    "    def pred(self, X):\n",
    "        \"\"\"Predicts the classes for a number of input data\n",
    "        \n",
    "        Args:\n",
    "            X: matrix with input data where each row represents a sample.\n",
    "            \n",
    "        Returns:\n",
    "            y: vector with the predicted class for each input sample.\n",
    "            \n",
    "        Raises:\n",
    "            UntrainedModelError: Error that occurs when this function is called\n",
    "                before calling the 'train' function.\n",
    "        \"\"\"\n",
    "        \n",
    "        if self.bTrained == False:\n",
    "            raise UntrainedModelError(\"UntrainedModelError: The SVM model has not been trained.\")\n",
    "        \n",
    "        N = X.shape[0]\n",
    "        K = self.getKernelMatrix(X, training = False)  \n",
    "        N_sv = np.shape(self.X_sv)[0]\n",
    "        if np.shape(self.mu)[0] != N_sv:\n",
    "            K = np.hstack((np.ones(N).reshape((N, 1)), K))\n",
    "        y = K.dot(self.mu)\n",
    "        return y\n",
    "\n",
    "    def getSV(self):\n",
    "        return self.X_sv, self.Y_sv\n",
    "               "
   ]
  },
  {
   "cell_type": "code",
   "execution_count": 79,
   "metadata": {
    "collapsed": true
   },
   "outputs": [],
   "source": [
    "def printTest(X,Y,X_tst,Y_tst,X_sv,Y_sv):\n",
    "    plt.plot(X,Y,'go')\n",
    "    plt.plot(X_tst, Y_tst, 'b')\n",
    "    plt.plot(X_sv, Y_sv, 'ko', markersize = 15, mfc = \"None\")\n",
    "    plt.legend(['Training points', \\\n",
    "                'Regression', \\\n",
    "                'Support Vectors'])\n",
    "    plt.show()"
   ]
  },
  {
   "cell_type": "code",
   "execution_count": 131,
   "metadata": {},
   "outputs": [
    {
     "data": {
      "image/png": "[encoded data removed]",
      "text/plain": [
       "<matplotlib.figure.Figure at 0x7f8a20bdc6a0>"
      ]
     },
     "metadata": {},
     "output_type": "display_data"
    }
   ],
   "source": [
    "N_tr = 100\n",
    "N_ts = 1000\n",
    "\n",
    "def trans(x):\n",
    "    N = np.shape(x)[0]\n",
    "    y = np.sin(x) + 3 + np.random.normal(loc=0, scale=0.3, size=N)\n",
    "    return y \n",
    "\n",
    "x_tr = np.linspace(0,7.5,num=N_tr)\n",
    "y_tr = trans(x_tr)\n",
    "x_ts = np.linspace(0,7.5,num=N_ts)\n",
    "y_ts = trans(x_ts)\n",
    "plt.plot(x_tr, y_tr)\n",
    "plt.show()"
   ]
  },
  {
   "cell_type": "code",
   "execution_count": null,
   "metadata": {},
   "outputs": [],
   "source": [
    "try:\n",
    "    s = RVM(kerType = \"radial\", p = 2, sigma = 1.1, rvmType = \"DD\")\n",
    "    s.train(x_tr, y_tr)\n",
    "    y_pred = s.pred(x_ts)\n",
    "    x_sv, y_sv = s.getSV()\n",
    "    printTest(x_tr,y_tr,x_ts,y_pred ,x_sv,y_sv)\n",
    "except Exception as e:\n",
    "    print(e)\n",
    "    "
   ]
  },
  {
   "cell_type": "code",
   "execution_count": null,
   "metadata": {},
   "outputs": [
    {
     "name": "stdout",
     "output_type": "stream",
     "text": [
      "22043\n"
     ]
    },
    {
     "data": {
      "image/png": "[encoded data removed]",
      "text/plain": [
       "<matplotlib.figure.Figure at 0x7f89fd9e5748>"
      ]
     },
     "metadata": {},
     "output_type": "display_data"
    }
   ],
   "source": [
    "s = RVM(kerType = \"poly\", p = 3, sigma = 1.1, rvmType = \"EM\")\n",
    "s.train(x_tr, y_tr)\n",
    "y_pred = s.pred(x_ts)\n",
    "x_sv, y_sv = s.getSV()\n",
    "printTest(x_tr,y_tr,x_ts,y_pred ,x_sv,y_sv)"
   ]
  },
  {
   "cell_type": "code",
   "execution_count": 15,
   "metadata": {},
   "outputs": [
    {
     "data": {
      "text/plain": [
       "False"
      ]
     },
     "execution_count": 15,
     "metadata": {},
     "output_type": "execute_result"
    }
   ],
   "source": [
    "not True"
   ]
  },
  {
   "cell_type": "code",
   "execution_count": 37,
   "metadata": {},
   "outputs": [
    {
     "data": {
      "text/plain": [
       "array([False, False,  True], dtype=bool)"
      ]
     },
     "execution_count": 37,
     "metadata": {},
     "output_type": "execute_result"
    }
   ],
   "source": [
    "a = np.array([True, True, False])\n",
    "np.logical_not(a)"
   ]
  },
  {
   "cell_type": "code",
   "execution_count": null,
   "metadata": {
    "collapsed": true
   },
   "outputs": [],
   "source": []
  }
 ],
 "metadata": {
  "kernelspec": {
   "display_name": "Python 3",
   "language": "python",
   "name": "python3"
  },
  "language_info": {
   "codemirror_mode": {
    "name": "ipython",
    "version": 3
   },
   "file_extension": ".py",
   "mimetype": "text/x-python",
   "name": "python",
   "nbconvert_exporter": "python",
   "pygments_lexer": "ipython3",
   "version": "3.5.2"
  }
 },
 "nbformat": 4,
 "nbformat_minor": 2
}
