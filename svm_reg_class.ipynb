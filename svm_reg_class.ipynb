{
 "cells": [
  {
   "cell_type": "code",
   "execution_count": 1,
   "metadata": {
    "collapsed": true
   },
   "outputs": [],
   "source": [
    "# Import of the packages\n",
    "import numpy as np\n",
    "import scipy.optimize as optimize\n",
    "import matplotlib.pyplot as plt\n",
    "import math\n",
    "import scipy.stats as sts"
   ]
  },
  {
   "cell_type": "code",
   "execution_count": 2,
   "metadata": {
    "collapsed": true
   },
   "outputs": [],
   "source": [
    "class ParameterValueError(Exception):\n",
    "    \"\"\" Custom exception raised when a parameter has an invalid value.\"\"\"\n",
    "    pass"
   ]
  },
  {
   "cell_type": "code",
   "execution_count": 3,
   "metadata": {
    "collapsed": true
   },
   "outputs": [],
   "source": [
    "class FailedOptimizationError(Exception):\n",
    "    \"\"\" Custom exception raised when a the optimization process fails.\"\"\"\n",
    "    pass"
   ]
  },
  {
   "cell_type": "code",
   "execution_count": 4,
   "metadata": {
    "collapsed": true
   },
   "outputs": [],
   "source": [
    "class UntrainedModelError(Exception):\n",
    "    \"\"\" Custom exception raised when an untrained model is called to make predictions.\"\"\"\n",
    "    pass"
   ]
  },
  {
   "cell_type": "code",
   "execution_count": 5,
   "metadata": {
    "collapsed": true
   },
   "outputs": [],
   "source": [
    "# SVM class\n",
    "class SVM:\n",
    "    \"\"\" Support Vector Machine (SVM) for regression.\n",
    "    \n",
    "    Implementation of SVM for regression with an option to use\n",
    "    both the original SVM formulation and the alternative v-SVM\n",
    "    formulation.\n",
    "    \n",
    "    Attributes:\n",
    "        kerType: A string of the type of the desired kernel.\n",
    "        svmType: A string denoting the SVM type to be used. The string \"C\" denotes\n",
    "            the original SVM formulation while the string \"V\" is used for the \n",
    "            alternative v-SVM formulation.\n",
    "        V: V-variable.\n",
    "        C: C-variable.\n",
    "        p: Integer value denoting the degree of the polynomial kernel.\n",
    "        sigma: Float value denoting the smoothing factor of the Gaussian kernel.\n",
    "        kappa: Float value denoting the scaling parameter of the sigmoid kernel.\n",
    "        delta: Float value denoting the translation parameter of the sigmoid kernel.\n",
    "        eps: Float value denoting the size of the insensitive tube.\n",
    "        bTrained: boolean value which becomes true once the SVM has been trained.\n",
    "        a: the 'a' lagrangian multipliers of the SVM.\n",
    "        a_hat: the 'a-hat' lagrangian multipliers of the SVM.\n",
    "        b: the bias term of the SVM\n",
    "        X_sv: the input values of the support vectors.\n",
    "        Y_sv: the output values of the support vectors.\n",
    "    \"\"\"\n",
    "\n",
    "    EPSILON = 1e-10\n",
    "   \n",
    "    def __init__(self, kerType = 'poly', svmType = 'C',\n",
    "                 V = 0.45, C = 1, p = 1, sigma = 1, \n",
    "                 kappa = 1, delta = 1, eps = 0.5):\n",
    "        \"\"\" Initializes the SVM class (constructor).\n",
    "        \n",
    "            Raises:\n",
    "                ParameterValueError: An error occured because a parameter had an\n",
    "                    invalid value.  \n",
    "        \"\"\"\n",
    "        # Check if the kernel type chosen is valid\n",
    "        kerTypes = ['linear', 'poly', 'radial', 'sigmoid']\n",
    "        if kerType not in kerTypes:\n",
    "            raise ParameterValueError(\"ParameterValueError: The string \" + kerType + \\\n",
    "                                       \" does not denote a valid kernel type\")\n",
    "        # Check if the string denoting the svmType has a valid value\n",
    "        if svmType != 'C' and svmType != 'V':\n",
    "            raise ParameterValueError('ParameterValueError: ' + svmType, \\\n",
    "                                       \" is not a valid SVM type value. Enter 'C' or 'V' as a value. \")\n",
    "        self.kerType = kerType\n",
    "        self.svmType = svmType\n",
    "        self.V = V\n",
    "        self.C = C\n",
    "        self.p = p\n",
    "        self.sigma = sigma\n",
    "        self.kappa = kappa\n",
    "        self.delta = delta\n",
    "        self.eps = eps\n",
    "        self.bTrained = False\n",
    "\n",
    "    def kernel(self, x, y):\n",
    "        \"\"\" Kernel computation.\n",
    "        \n",
    "        It computes the kernel value based on the dot product\n",
    "        between two vectors.\n",
    "        \n",
    "        Args:\n",
    "            x: Input vector.\n",
    "            y: Other input vector.\n",
    "            \n",
    "        Returns:\n",
    "            The computed kernel value.\n",
    "        \"\"\"  \n",
    "        if self.kerType == \"linear\":\n",
    "            k = np.dot(x,y) + 1\n",
    "        elif self.kerType == \"poly\":\n",
    "            k = (np.dot(x,y) + 1) ** self.p\n",
    "        elif self.kerType == \"radial\":\n",
    "            k = math.exp(-(np.dot(x-y,x-y))/(2*self.sigma))\n",
    "        elif self.kerType == \"sigmoid\":\n",
    "            k = math.atanh(self.kappa * np.dot(x,y) - self.delta)\n",
    "\n",
    "        return k\n",
    "    \n",
    "    def lagrange(self, params, y, K):\n",
    "        \"\"\" The lagrangian objective function to be minimized.\n",
    "        \n",
    "        Args:\n",
    "            params: A vector with all the a and a-hat Lagrange multipliers.          \n",
    "            y: Vector with the true output values.\n",
    "            K: Matrix with the kernel values computed between each input.\n",
    "        \n",
    "        Returns:\n",
    "            The value of the lagrangian for the given parameters.\n",
    "        \"\"\"\n",
    "        N2 = np.shape(params)[0]\n",
    "        N = int(N2/2)\n",
    "        a = params[0:N].reshape((N,1))\n",
    "        a_hat = params[N:N2].reshape((N,1))\n",
    "        y = y.reshape((N,1))\n",
    "        if self.svmType == \"C\":\n",
    "            L = (1/2) * (a - a_hat).T.dot(K).dot(a - a_hat) \\\n",
    "                + self.eps * np.sum(a + a_hat) \\\n",
    "                - (a - a_hat).T.dot(y)\n",
    "        elif self.svmType == \"V\":\n",
    "            L = (1/2) * (a - a_hat).T.dot(K).dot(a - a_hat) \\\n",
    "                    - (a - a_hat).T.dot(y)\n",
    "        return L\n",
    "    \n",
    "    def train(self, X_tr, Y_tr):\n",
    "        \"\"\" SVM training method\n",
    "        \n",
    "        Trains the SVM by minimizing the lagrangian function given the\n",
    "        training input and output samples.\n",
    "        \n",
    "        Args:\n",
    "            X_tr: A matrix with a training input sample in each row.\n",
    "            Y_tr: A vector with the output values of each input sample\n",
    "                in X_tr.\n",
    "        \n",
    "        Returns:\n",
    "            None\n",
    "        \n",
    "        Raises:\n",
    "            FailedOptimizationError: An error occured because the optimization\n",
    "                of the lagrangian failed.\n",
    "        \"\"\"\n",
    "        N_tr = np.shape(X_tr)[0]\n",
    "        K = np.zeros((N_tr, N_tr))\n",
    "        for i in range(N_tr):\n",
    "            for j in range(N_tr):\n",
    "                K[i,j] = self.kernel(X_tr[i], X_tr[j])\n",
    "        args = (Y_tr, K)\n",
    "        \n",
    "        bounds = []\n",
    "        if self.svmType == \"C\":\n",
    "            for i in range(0, 2*N_tr):\n",
    "                bounds.append((0,self.C))\n",
    "        elif self.svmType == \"V\":\n",
    "            for i in range(0, 2*N_tr):\n",
    "                bounds.append((0,self.C / N_tr))\n",
    "        \n",
    "        def constraint_a(params):\n",
    "            N2 = np.shape(params)[0]\n",
    "            N = int(N2/2)\n",
    "            a = params[0:N]\n",
    "            a_hat = params[N:N2]\n",
    "            return np.sum(a - a_hat)\n",
    "        \n",
    "        def constraint_b(params):\n",
    "            N2 = np.shape(params)[0]\n",
    "            N = int(N2/2)\n",
    "            a = params[0:N]\n",
    "            a_hat = params[N:N2]\n",
    "            return self.V * self.C - np.sum(a + a_hat)\n",
    "\n",
    "        if self.svmType == \"C\":\n",
    "            cons = {'type':'eq', 'fun': constraint_a}\n",
    "        elif self.svmType == \"V\":\n",
    "            cons = [{'type':'eq', 'fun': constraint_a},\n",
    "                {'type':'ineq', 'fun' : constraint_b}]\n",
    "\n",
    "        \n",
    "        initial = np.zeros(2*N_tr)\n",
    "        final = optimize.minimize(self.lagrange, initial, args, \\\n",
    "            bounds=bounds, constraints=cons, method='SLSQP', tol = self.EPSILON)\n",
    "        \n",
    "        if final.success != True:\n",
    "            raise FailedOptimizationError(\"FailedOptimizationError: The optimization was not successful.\")\n",
    "        \n",
    "        a = final.x[0:N_tr]\n",
    "        a_hat = final.x[N_tr:2*N_tr]\n",
    "        \n",
    "        b_sum = 0\n",
    "        count = 0\n",
    "        # Average over all estimates of b for samples with a or a_hat between 0 and C\n",
    "        for i in range(N_tr):\n",
    "            if a[i] > 0 and a[i] < self.C:\n",
    "                count += 1\n",
    "                b_sum += Y_tr[i] - self.eps - (a - a_hat).T.dot(K)[i]\n",
    "            if a_hat[i] > 0 and a_hat[i] < self.C:\n",
    "                count += 1\n",
    "                b_sum += Y_tr[i] + self.eps - (a - a_hat).T.dot(K)[i]\n",
    "        b = b_sum / count\n",
    "  \n",
    "    \n",
    "        cond_valuable = np.logical_or(a > self.EPSILON, a_hat > self.EPSILON)\n",
    "        a = a[cond_valuable]\n",
    "        a_hat = a_hat[cond_valuable]\n",
    "        X_sv = X_tr[cond_valuable]\n",
    "        Y_sv = Y_tr[cond_valuable]\n",
    "        \n",
    "        self.a = a\n",
    "        self.a_hat = a_hat\n",
    "        self.b = b\n",
    "        self.X_sv = X_sv\n",
    "        self.Y_sv = Y_sv\n",
    "        self.bTrained = True\n",
    "        \n",
    "    def pred(self, X):\n",
    "        \"\"\"Predicts the outputs for a number of input data\n",
    "        \n",
    "        Args:\n",
    "            X: matrix with input data where each row represents a sample.\n",
    "            \n",
    "        Returns:\n",
    "            y: vector with the predicted output for each input sample.\n",
    "            \n",
    "        Raises:\n",
    "            UntrainedModelError: Error that occurs when this function is called\n",
    "                before calling the 'train' function.\n",
    "        \"\"\"\n",
    "        \n",
    "        if self.bTrained == False:\n",
    "            raise UntrainedModelError(\"UntrainedModelError: The SVM model has not been trained.\")\n",
    "        \n",
    "        N_sv = np.shape(self.X_sv)[0]\n",
    "        N = np.shape(X)[0]\n",
    "        a = self.a.reshape(N_sv,1)\n",
    "        a_hat = self.a_hat.reshape(N_sv,1)\n",
    "        K = np.zeros((N_sv, N))\n",
    "        for i in range(N_sv):\n",
    "            for j in range(N):\n",
    "                K[i,j] = self.kernel(self.X_sv[i],X[j])\n",
    "        y = (a - a_hat).T.dot(K) + self.b\n",
    "        y = y.reshape(-1)\n",
    "        return y\n",
    "    \n",
    "    def getSV(self):\n",
    "        return self.X_sv, self.Y_sv"
   ]
  },
  {
   "cell_type": "code",
   "execution_count": 67,
   "metadata": {
    "collapsed": true
   },
   "outputs": [],
   "source": [
    "def printTest(X,Y,X_tst,Y_tst,X_sv,Y_sv,eps):\n",
    "    plt.plot(X,Y,'go')\n",
    "    plt.plot(X_tst, Y_tst, 'b')\n",
    "    plt.fill_between(X_tst, Y_tst-eps, Y_tst+eps, \\\n",
    "        facecolor='lightblue', interpolate=True, alpha=0.5)\n",
    "    plt.plot(X_sv, Y_sv, 'ko', markersize = 15, mfc = \"None\")\n",
    "    plt.legend(['Not SV', \\\n",
    "                'Regression', \\\n",
    "                'SV', \\\n",
    "                'Insensitive tube'])\n",
    "    plt.show()"
   ]
  },
  {
   "cell_type": "code",
   "execution_count": 68,
   "metadata": {},
   "outputs": [
    {
     "data": {
      "image/png": "[encoded data removed]",
      "text/plain": [
       "<matplotlib.figure.Figure at 0x7f27e92c0da0>"
      ]
     },
     "metadata": {},
     "output_type": "display_data"
    }
   ],
   "source": [
    "N_tr = 10\n",
    "N_ts = 10000\n",
    "\n",
    "def transSin(x):\n",
    "    N = np.shape(x)[0]\n",
    "    y = np.sin(x) + 3 + np.random.normal(loc=0, scale=0.1, size=N)\n",
    "    return y \n",
    "\n",
    "def transPoly(x):\n",
    "    N = np.shape(x)[0]\n",
    "    y = 0.05*x**3 - 0.35*x**2 + np.random.normal(loc=0, scale=0.1, size=N)\n",
    "    return y\n",
    "\n",
    "x_tr = np.linspace(0,7.5,num=N_tr)\n",
    "y_tr = transSin(x_tr)\n",
    "x_ts = np.linspace(0,7.5,num=N_ts)\n",
    "y_ts = transSin(x_ts)\n",
    "plt.plot(x_tr, y_tr)\n",
    "plt.show()"
   ]
  },
  {
   "cell_type": "code",
   "execution_count": 69,
   "metadata": {},
   "outputs": [
    {
     "data": {
      "image/png": "[encoded data removed]",
      "text/plain": [
       "<matplotlib.figure.Figure at 0x7f27e9685048>"
      ]
     },
     "metadata": {},
     "output_type": "display_data"
    }
   ],
   "source": [
    "try:\n",
    "    epsilon = 0.2\n",
    "    s = SVM(kerType=\"poly\", C = 2, p = 3, sigma = 1, eps = epsilon)\n",
    "    s.train(X_tr=x_tr, Y_tr=y_tr)\n",
    "    y_pred = s.pred(x_ts)\n",
    "    x_sv, y_sv = s.getSV()\n",
    "    printTest(x_tr,y_tr,x_ts,y_pred ,x_sv,y_sv,epsilon)\n",
    "except Exception as e:\n",
    "    print(e)\n",
    "    "
   ]
  },
  {
   "cell_type": "code",
   "execution_count": 27,
   "metadata": {},
   "outputs": [
    {
     "data": {
      "text/plain": [
       "21.09375"
      ]
     },
     "execution_count": 27,
     "metadata": {},
     "output_type": "execute_result"
    }
   ],
   "source": []
  },
  {
   "cell_type": "code",
   "execution_count": null,
   "metadata": {
    "collapsed": true
   },
   "outputs": [],
   "source": []
  }
 ],
 "metadata": {
  "kernelspec": {
   "display_name": "Python 3",
   "language": "python",
   "name": "python3"
  },
  "language_info": {
   "codemirror_mode": {
    "name": "ipython",
    "version": 3
   },
   "file_extension": ".py",
   "mimetype": "text/x-python",
   "name": "python",
   "nbconvert_exporter": "python",
   "pygments_lexer": "ipython3",
   "version": "3.5.2"
  }
 },
 "nbformat": 4,
 "nbformat_minor": 2
}
