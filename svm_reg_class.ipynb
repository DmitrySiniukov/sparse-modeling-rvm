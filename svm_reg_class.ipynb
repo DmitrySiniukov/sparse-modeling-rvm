{
 "cells": [
  {
   "cell_type": "code",
   "execution_count": 235,
   "metadata": {
    "collapsed": true
   },
   "outputs": [],
   "source": [
    "# Import of the packages\n",
    "import numpy as np\n",
    "import scipy.optimize as optimize\n",
    "import matplotlib.pyplot as plt\n",
    "import math\n",
    "import scipy.stats as sts"
   ]
  },
  {
   "cell_type": "code",
   "execution_count": 253,
   "metadata": {},
   "outputs": [],
   "source": [
    "# SVM classifier\n",
    "class SVM:\n",
    "    \"\"\" Support Vector Machine (SVM).\n",
    "    \n",
    "    Constructor to initialize the SVM with the different desired\n",
    "    parameters and the type of SVM.\n",
    "    \n",
    "    Attributes:\n",
    "        kerType: A string of the type of desired kernel.\n",
    "        svmType: A string of the type of desired SVM.\n",
    "        V: V-variable.\n",
    "        C: C-variable.\n",
    "        p: Degree of the polynomial kernel.\n",
    "        sigma: Smoothing factor the Gaussian kernel.\n",
    "        kappa: Scaling parameter of the sigmoid kernel.\n",
    "        delta: Translation parameter of the sigmoid kernel.\n",
    "        eps: Size of the insensitive tube.\n",
    "    \"\"\"\n",
    "\n",
    "    EPSILON = 1e-5\n",
    "    \n",
    "    def __init__(self, kerType = 'poly', svmType = 'C',\n",
    "                 V = 0.45, C = 1, p = 1, sigma = 1, \n",
    "                 kappa = 1, delta = 1, eps = 0.5):\n",
    "        \"\"\" Initializes the SVM class.\"\"\"\n",
    "    \n",
    "        \n",
    "        self.kerType = kerType\n",
    "        self.svmType = svmType\n",
    "        self.V = V\n",
    "        self.C = C\n",
    "        self.p = p\n",
    "        self.sigma = sigma\n",
    "        self.kappa = kappa\n",
    "        self.delta = delta\n",
    "        self.eps = eps\n",
    "    \n",
    "    def kernel(self, x, y):\n",
    "        \"\"\" Kernel computation.\n",
    "        \n",
    "        It computes the kernel value based on the dot product\n",
    "        between two vectors.\n",
    "        \n",
    "        Args:\n",
    "            x: Input vector.\n",
    "            y: Other input vector.\n",
    "            \n",
    "        Returns:\n",
    "            Kernel computation.\n",
    "        \"\"\"\n",
    "        \n",
    "        if self.kerType == \"linear\":\n",
    "            k = np.dot(x,y) + 1\n",
    "        elif self.kerType == \"poly\":\n",
    "            k = (np.dot(x,y) + 1) ** self.p\n",
    "        elif self.kerType == \"radial\":\n",
    "            k = math.exp(-(np.dot(x-y,x-y))/(2*self.sigma))\n",
    "        elif self.kerType == \"sigmoid\":\n",
    "            k = math.atanh(self.kappa * np.dot(x,y) - self.delta)\n",
    "\n",
    "        return k\n",
    "    \n",
    "    def lagrange(self, params, X, y, K):\n",
    "        \"\"\"\n",
    "        TO DO\n",
    "        \"\"\"\n",
    "        N2 = np.shape(params)[0]\n",
    "        N = int(N2/2)\n",
    "        a = params[0:N].reshape((N,1))\n",
    "        a_hat = params[N:N2].reshape((N,1))\n",
    "        y = y.reshape((N,1))\n",
    "        if self.svmType == \"C\":\n",
    "            L = (1/2) * (a - a_hat).T.dot(K).dot(a - a_hat) \\\n",
    "                + self.eps * np.sum(a + a_hat) \\\n",
    "                - (a - a_hat).T.dot(y)\n",
    "            return L\n",
    "    \n",
    "    def train(self, X_tr, Y_tr):\n",
    "        \"\"\"TO DO\"\"\"\n",
    "        N_tr = np.shape(X_tr)[0]\n",
    "        K = np.zeros((N_tr, N_tr))\n",
    "        for i in range(N_tr):\n",
    "            for j in range(N_tr):\n",
    "                K[i,j] = self.kernel(X_tr[i], X_tr[j])\n",
    "        args = (X_tr, Y_tr, K)\n",
    "        bounds = []\n",
    "        for i in range(0, 2*N_tr):\n",
    "            bounds.append((0,self.C))\n",
    "        \n",
    "        def constraint(params):\n",
    "            N2 = np.shape(params)[0]\n",
    "            N = int(N2/2)\n",
    "            a = params[0:N]\n",
    "            a_hat = params[N:N2]\n",
    "            return np.sum(a - a_hat)\n",
    "        \n",
    "        cons = {'type':'eq', 'fun': constraint}\n",
    "        initial = np.zeros(2*N_tr)\n",
    "        final = optimize.minimize(self.lagrange, initial, args, \\\n",
    "            bounds=bounds, constraints=cons, method='SLSQP')\n",
    "        \n",
    "        if final.success != True:\n",
    "            # exception shit\n",
    "            print(final.success)\n",
    "            return\n",
    "        \n",
    "        a = final.x[0:N_tr]\n",
    "        a_hat = final.x[N_tr:2*N_tr]\n",
    "        \n",
    "        \n",
    "        for i in range(N_tr):\n",
    "            if (a[i] < self.C and a[i] > 0):\n",
    "                yn = Y_tr[i]\n",
    "                ind = i\n",
    "                break\n",
    "\n",
    "        b = yn - self.eps - (a - a_hat).T.dot(K)[ind]\n",
    "        \n",
    "        cond_valuable = abs((a - a_hat)) > - self.EPSILON\n",
    "        a = a[cond_valuable]\n",
    "        a_hat = a_hat[cond_valuable]\n",
    "        X_sv = X_tr[cond_valuable]\n",
    "        Y_sv = Y_tr[cond_valuable]\n",
    "        \n",
    "        self.a = a\n",
    "        self.a_hat = a_hat\n",
    "        self.b = b\n",
    "        self.X_sv = X_sv\n",
    "        \n",
    "    def pred(self, X):\n",
    "        \"\"\" TO DO \"\"\"\n",
    "        \n",
    "        N_sv = np.shape(self.X_sv)[0]\n",
    "        N = np.shape(X)[0]\n",
    "        a = self.a.reshape(N_sv,1)\n",
    "        a_hat = self.a_hat.reshape(N_sv,1)\n",
    "        K = np.zeros((N_sv, N))\n",
    "        for i in range(N_sv):\n",
    "            for j in range(N):\n",
    "                K[i,j] = self.kernel(self.X_sv[i],X[j])\n",
    "        y = (a - a_hat).T.dot(K) + self.b\n",
    "        y = y.reshape(-1)\n",
    "        return y"
   ]
  },
  {
   "cell_type": "code",
   "execution_count": 306,
   "metadata": {},
   "outputs": [],
   "source": [
    "N = 100\n",
    "tr = 0.6\n",
    "ts = 0.4\n",
    "N_tr = int(N*tr)\n",
    "N_ts = int(N*ts)\n",
    "x = np.random.uniform(size = N) * 7.5\n",
    "y = x**2 + np.random.normal(loc=0, scale=0.1, size=N)\n",
    "\n",
    "\n",
    "x_tr = x[0:N_tr]\n",
    "y_tr = y[0:N_tr]\n",
    "x_ts = x[N_ts:N]\n",
    "y_ts = y[N_ts:N]"
   ]
  },
  {
   "cell_type": "code",
   "execution_count": 307,
   "metadata": {},
   "outputs": [],
   "source": [
    "s = SVM(kerType=\"radial\", C = 10, p = 1, sigma = 5, eps = 0.15)\n",
    "s.train(X_tr=x_tr, Y_tr=y_tr)\n",
    "y_pred = s.pred(x_tr)"
   ]
  },
  {
   "cell_type": "code",
   "execution_count": 308,
   "metadata": {},
   "outputs": [
    {
     "data": {
      "image/png": "[encoded data removed]",
      "text/plain": [
       "<matplotlib.figure.Figure at 0x7fa3201c6668>"
      ]
     },
     "metadata": {},
     "output_type": "display_data"
    }
   ],
   "source": [
    "plt.plot(x_tr, y_tr,'ro')\n",
    "plt.plot(x_tr, y_pred, 'bo')\n",
    "plt.show()"
   ]
  },
  {
   "cell_type": "code",
   "execution_count": 290,
   "metadata": {},
   "outputs": [
    {
     "data": {
      "image/png": "[encoded data removed]",
      "text/plain": [
       "<matplotlib.figure.Figure at 0x7fa31df29668>"
      ]
     },
     "metadata": {},
     "output_type": "display_data"
    }
   ],
   "source": [
    "plt.plot(x,y)\n",
    "plt.show()"
   ]
  },
  {
   "cell_type": "code",
   "execution_count": 305,
   "metadata": {},
   "outputs": [
    {
     "data": {
      "text/plain": [
       "array([  3.48397956e-01,   3.95209499e-01,   2.39780990e-04,\n",
       "         7.06671892e-01,   5.08686237e-01,   2.30794535e-01,\n",
       "         5.49463186e-02,   8.38490849e-01,   1.54005220e-01,\n",
       "         6.14079717e-01])"
      ]
     },
     "execution_count": 305,
     "metadata": {},
     "output_type": "execute_result"
    }
   ],
   "source": [
    "np.random.uniform(size=10)"
   ]
  },
  {
   "cell_type": "code",
   "execution_count": null,
   "metadata": {
    "collapsed": true
   },
   "outputs": [],
   "source": []
  }
 ],
 "metadata": {
  "kernelspec": {
   "display_name": "Python 3",
   "language": "python",
   "name": "python3"
  },
  "language_info": {
   "codemirror_mode": {
    "name": "ipython",
    "version": 3
   },
   "file_extension": ".py",
   "mimetype": "text/x-python",
   "name": "python",
   "nbconvert_exporter": "python",
   "pygments_lexer": "ipython3",
   "version": "3.5.2"
  }
 },
 "nbformat": 4,
 "nbformat_minor": 2
}
